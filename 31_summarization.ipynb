{
 "cells": [
  {
   "cell_type": "markdown",
   "id": "61d89f26-da9c-4adc-bd91-bb277755bf76",
   "metadata": {},
   "source": [
    "## Load and import"
   ]
  },
  {
   "cell_type": "code",
   "execution_count": 18,
   "id": "6fa27eed-5c89-4e5f-bec2-6d363002fce4",
   "metadata": {
    "tags": []
   },
   "outputs": [
    {
     "name": "stdout",
     "output_type": "stream",
     "text": [
      "The autoreload extension is already loaded. To reload it, use:\n",
      "  %reload_ext autoreload\n"
     ]
    }
   ],
   "source": [
    "# reload modules before running code\n",
    "%load_ext autoreload\n",
    "%autoreload 2"
   ]
  },
  {
   "cell_type": "code",
   "execution_count": 19,
   "id": "8cfe6636-6f39-49d5-9664-3e5d534ba687",
   "metadata": {
    "tags": []
   },
   "outputs": [
    {
     "data": {
      "text/plain": [
       "3774"
      ]
     },
     "execution_count": 19,
     "metadata": {},
     "output_type": "execute_result"
    }
   ],
   "source": [
    "import gc\n",
    "import torch\n",
    "torch.cuda.empty_cache()\n",
    "\n",
    "gc.collect()"
   ]
  },
  {
   "cell_type": "code",
   "execution_count": 20,
   "id": "db28941b-9af3-4ebf-826b-29d1cdb11c36",
   "metadata": {
    "tags": []
   },
   "outputs": [
    {
     "name": "stdout",
     "output_type": "stream",
     "text": [
      "Tue Apr 15 09:55:38 2025       \n",
      "+-----------------------------------------------------------------------------------------+\n",
      "| NVIDIA-SMI 550.90.07              Driver Version: 550.90.07      CUDA Version: 12.4     |\n",
      "|-----------------------------------------+------------------------+----------------------+\n",
      "| GPU  Name                 Persistence-M | Bus-Id          Disp.A | Volatile Uncorr. ECC |\n",
      "| Fan  Temp   Perf          Pwr:Usage/Cap |           Memory-Usage | GPU-Util  Compute M. |\n",
      "|                                         |                        |               MIG M. |\n",
      "|=========================================+========================+======================|\n",
      "|   0  Tesla P100-PCIE-16GB           On  |   00000000:00:04.0 Off |                    0 |\n",
      "| N/A   62C    P0             38W /  250W |   15229MiB /  16384MiB |      0%      Default |\n",
      "|                                         |                        |                  N/A |\n",
      "+-----------------------------------------+------------------------+----------------------+\n",
      "                                                                                         \n",
      "+-----------------------------------------------------------------------------------------+\n",
      "| Processes:                                                                              |\n",
      "|  GPU   GI   CI        PID   Type   Process name                              GPU Memory |\n",
      "|        ID   ID                                                               Usage      |\n",
      "|=========================================================================================|\n",
      "|    0   N/A  N/A      5256      C   ...rs/cuda_v12_avx/ollama_llama_server      15226MiB |\n",
      "+-----------------------------------------------------------------------------------------+\n"
     ]
    }
   ],
   "source": [
    "!nvidia-smi"
   ]
  },
  {
   "cell_type": "code",
   "execution_count": 21,
   "id": "c8b60468",
   "metadata": {},
   "outputs": [],
   "source": [
    "import sys\n",
    "sys.path.insert(0, '..')\n",
    "import config\n",
    "import pandas as pd"
   ]
  },
  {
   "cell_type": "code",
   "execution_count": null,
   "id": "4772e91a",
   "metadata": {
    "tags": []
   },
   "outputs": [],
   "source": [
    "from src.functions import load_resources, get_current_date_string\n",
    "\n",
    "from src.sum_fns import _read_file, load_fewshots, clean_process_bearblog, load_templates_zero_shot, summarize, batch_clean_summarization, batch_summarization"
   ]
  },
  {
   "cell_type": "code",
   "execution_count": 23,
   "id": "b1cdc516-5576-44b3-9865-58e2ca66c859",
   "metadata": {
    "tags": []
   },
   "outputs": [],
   "source": [
    "# worklog_summarization_prompt, desc_summarization_prompt = load_templates_zero_shot()\n",
    "# worklog_summarization_prompt"
   ]
  },
  {
   "cell_type": "markdown",
   "id": "7d0fafab-ec34-4c20-9f43-f078e5a9a7ed",
   "metadata": {},
   "source": [
    "## Read a single ticket "
   ]
  },
  {
   "cell_type": "code",
   "execution_count": 24,
   "id": "9d084bc2-d6b6-4434-a807-94262e2e4655",
   "metadata": {
    "tags": []
   },
   "outputs": [],
   "source": [
    "ticket_number =  \"TA0000017427771\"   \n",
    "# long tickets \"TA0000017490033\"  TA0000017415456 1\n",
    "#TA0000017426456       TA0000017427771    \"TA0000017488448\"\n",
    "file_path = f\"../data/raw_summ_tickets/open_op_summ/{ticket_number}.rep\"\n",
    "\n",
    "ticket_content = _read_file(file_path)"
   ]
  },
  {
   "cell_type": "code",
   "execution_count": 25,
   "id": "4c136c85-44d1-448f-b8ee-fc2a64a7c4e0",
   "metadata": {
    "tags": []
   },
   "outputs": [],
   "source": [
    "# print(ticket_content)"
   ]
  },
  {
   "cell_type": "markdown",
   "id": "452192e0-8bec-4573-9176-2ef83141afe4",
   "metadata": {},
   "source": [
    "## Cleaning and processing"
   ]
  },
  {
   "cell_type": "code",
   "execution_count": null,
   "id": "044d00fb-fe54-4adb-9649-02b00a65c58e",
   "metadata": {
    "tags": []
   },
   "outputs": [
    {
     "name": "stderr",
     "output_type": "stream",
     "text": [
      "/home/jupyter/Ticket_summarization_resolution/DE_ticket_summarization_resolution/notebooks/../src/sum_fns.py:1298: SettingWithCopyWarning: \n",
      "A value is trying to be set on a copy of a slice from a DataFrame.\n",
      "Try using .loc[row_indexer,col_indexer] = value instead\n",
      "\n",
      "See the caveats in the documentation: https://pandas.pydata.org/pandas-docs/stable/user_guide/indexing.html#returning-a-view-versus-a-copy\n",
      "  df[\"processed_bearblog\"] = df['processed_bearblog'].apply(extract_and_filter_text_within_symbols)\n",
      "/home/jupyter/Ticket_summarization_resolution/DE_ticket_summarization_resolution/notebooks/../src/sum_fns.py:1300: SettingWithCopyWarning: \n",
      "A value is trying to be set on a copy of a slice from a DataFrame.\n",
      "Try using .loc[row_indexer,col_indexer] = value instead\n",
      "\n",
      "See the caveats in the documentation: https://pandas.pydata.org/pandas-docs/stable/user_guide/indexing.html#returning-a-view-versus-a-copy\n",
      "  df[\"processed_bearblog\"] = df['day'] + \": \" + df['processed_bearblog']\n"
     ]
    }
   ],
   "source": [
    "df_explode, len_logs = clean_process_bearblog(ticket_content, config.ticket_key, config.ticket_required_keys)"
   ]
  },
  {
   "cell_type": "code",
   "execution_count": 27,
   "id": "02839c0b",
   "metadata": {},
   "outputs": [],
   "source": [
    "pd.options.display.max_colwidth = 0"
   ]
  },
  {
   "cell_type": "code",
   "execution_count": 28,
   "id": "b654027c",
   "metadata": {},
   "outputs": [
    {
     "data": {
      "text/html": [
       "<div>\n",
       "<style scoped>\n",
       "    .dataframe tbody tr th:only-of-type {\n",
       "        vertical-align: middle;\n",
       "    }\n",
       "\n",
       "    .dataframe tbody tr th {\n",
       "        vertical-align: top;\n",
       "    }\n",
       "\n",
       "    .dataframe thead th {\n",
       "        text-align: right;\n",
       "    }\n",
       "</style>\n",
       "<table border=\"1\" class=\"dataframe\">\n",
       "  <thead>\n",
       "    <tr style=\"text-align: right;\">\n",
       "      <th></th>\n",
       "      <th>BearbLog</th>\n",
       "      <th>cleaned_bearblog</th>\n",
       "      <th>Benutzer</th>\n",
       "      <th>processed_bearblog</th>\n",
       "    </tr>\n",
       "  </thead>\n",
       "  <tbody>\n",
       "    <tr>\n",
       "      <th>0</th>\n",
       "      <td>neuer Kundenkontakt angelegt:\\n   initiiert durch:                   Vodafone\\n   Grund:                             Statusmeldung\\n   Kontaktname:                  Kleinitzke\\n   CC-T:                               0049\\n   Tel.:                                 05273/905208\\n   erreicht:                           erreicht\\n   Funktionsbest. d. Kunde: \\n   KG geführt:                      \\n   Kurzbeschr.(intern):          s\\n   Kein Termin:                    \\n   Technikerbesuch:           \\n   Kundeninfo:                     Ansprechpartner konnte wegen statusmeldung erreicht werden.  \\n   angerufen unter     0171/9942259, Basic checks werden gemacht\\n   \\n</td>\n",
       "      <td>[[Kunde kontaktiert, Ansprechpartner konnte wegen statusmeldung erreicht werden\\nangerufen unter 0171/9942259, Basic checks werden gemacht]]</td>\n",
       "      <td>ammar.fahmy1</td>\n",
       "      <td>06-01-2025: Kunde kontaktiert, Ansprechpartner konnte wegen statusmeldung erreicht werden\\nangerufen unter 0171/9942259, Basic checks werden gemacht</td>\n",
       "    </tr>\n",
       "    <tr>\n",
       "      <th>0</th>\n",
       "      <td>Neuer Auftrag 'AT0000010923012'angelegt. Problembeschreibung: Kunde: 2710014138; \\n   Vodafone GmbH\\n   Referenznummer Supportfunktion\\n   (Support-Auftragsnummer)\\n   4447628550229\\n    \\n   Funktion\\n   LINERESET\\n   Vertragsnummer\\n   3051309947\\n   Ausführung erfolgreich\\n   ja\\n   Meldung\\n   Supportfunktion wurde erfolgreich durchgeführt\\n   Zeitpunkt der Ausführung\\n   06.01.2025, 12:14\\n   \\n   \\n</td>\n",
       "      <td>[Neuer Auftrag 'AT0000010923012'angelegt. Problembeschreibung: Kunde: 2710014138;\\nVodafone GmbH\\nReferenznummer Supportfunktion\\n(Support-Auftragsnummer)\\nFunktion\\nLINERESET\\nVertragsnummer\\nAusfuhrung erfolgreich\\nja\\nMeldung\\nSupportfunktion wurde erfolgreich durchgefuhrt\\nZeitpunkt der Ausfuhrung]</td>\n",
       "      <td>ammar.fahmy1</td>\n",
       "      <td>06-01-2025: Ein neuer auftrag wurde angelegt zugewiesen Deutsche Telekom. Problembeschreibung: Kunde: 2710014138;\\nVodafone GmbH\\nReferenznummer Supportfunktion\\n(Support-Auftragsnummer)\\nFunktion\\nLINERESET\\nVertragsnummer\\nAusfuhrung erfolgreich\\nja\\nMeldung\\nSupportfunktion wurde erfolgreich durchgefuhrt\\nZeitpunkt der Ausfuhrung</td>\n",
       "    </tr>\n",
       "    <tr>\n",
       "      <th>0</th>\n",
       "      <td>neuen Eskalationskontakt $EskaID$ angelegt:\\n   Medium:                   Mail\\n   initiiert durch:            Vodafone\\n   Grund:                      Eskalationsstart\\n   Betreff:                     #ED-Level 1#\\n   Kurzbeschr. (intern): #EG-Leitungskündigung#\\n   \\n   Frage: Wurde Ihre Leitung ohne Ihre Zustimmung oder Absprache gekündigt?\\n   Die Leitungskündigung erfolgte ohne Zustimmung des Kunden\\n   \\n   ######ED######\\n   Eskalation durch: Matthias Gottlob, VB \\n   Eskalation Zeit: 13:50Uhr \\n   Eskalation Mail an: G-FMEP-TSSE2\\n   Rückruf durch: Fachabteilung\\n   Rückruf um: bei neuem Status\\n   ######ED######\\n   \\n</td>\n",
       "      <td>[Eine neue eskalation wurde initiert, da , [Wurde Ihre Leitung ohne Ihre Zustimmung oder Absprache gekündigt?, Die Leitungskündigung erfolgte ohne Zustimmung des Kunden\\n######ED######\\nEskalation durch: Matthias Gottlob, VB\\nEskalation Zeit: 13:50Uhr\\nEskalation Mail an: G-FMEP-TSSE2\\nRückruf durch: Fachabteilung\\nRückruf um: bei neuem Status\\n######ED######]]</td>\n",
       "      <td>luzie.jozwiak01</td>\n",
       "      <td>06-01-2025: Eine neue eskalation wurde initiert, da . Wurde Ihre Leitung ohne Ihre Zustimmung oder Absprache gekündigt?. Die Leitungskündigung erfolgte ohne Zustimmung des Kunden\\n######ED######\\nEskalation durch: Matthias Gottlob, VB\\nEskalation Zeit: 13:50Uhr\\nEskalation Mail an: G-FMEP-TSSE2\\nRückruf durch: Fachabteilung\\nRückruf um: bei neuem Status\\n######ED######</td>\n",
       "    </tr>\n",
       "    <tr>\n",
       "      <th>0</th>\n",
       "      <td>neuer Kundenkontakt angelegt:\\n   initiiert durch:                   Vodafone\\n   Grund:                             Eskalationsmeldung\\n   Kontaktname:                  Matthias Gottlob, VB \\n   CC-T:                               \\n   Tel.:                                 \\n   erreicht:                           erreicht\\n   Funktionsbest. d. Kunde: \\n   KG geführt:                      \\n   Kurzbeschr.(intern):          #EG-Leitungskündigung#\\n\\n\\n   \\n   Frage: Wurde Ihre Leitung ohne Ihre Zustimmung oder Absprache gekündigt?\\n   Die Leitungskündigung erfolgte ohne Zustimmung des Kunden\\n   \\n   #ED Eskalation Start#\\n   #ED Level 1#\\n   ######ED######\\n   Eskalation durch: Matthias Gottlob, VB \\n   Eskalation Zeit: 13:50Uhr \\n   Eskalation Mail an: G-FMEP-TSSE2\\n   Rückruf durch: Fachabteilung\\n   Rückruf um: bei neuem Status\\n   ######ED######\\n   \\n   Beim Kunden wurde ohne Absprache einen Umschaltung BIC auf MPLS durchgeführt. Es gab \\n   hierzu keine Abstimmung mit dem Kunden! Jetzt funktioniert die Telefonie nicht, da der \\n   SIP nicht umgezogen wurde. Das Problem gab es schonmal bei einer Umschaltung, damals \\n   hat der Kollege Christian Roosen unterstützt. Bitte ASAP kontakt mit Herrn Kleinitzke \\n   aufnehmen und das Thema klären. Weiterhin hat der Kunde keine Informationen bekommen, \\n   was genau bei der Migration noch gemacht wurde. Bitte auch hier um Aufklärung. Es gab \\n   keine Planung zur Umstellung des Standortes. \\n   \\n   Asp. Kunde:\\n   Andree Kleinitzke, \\n   Tel.:                 +49 52 73 / 905 - 208\\n   Fax:                 +49 52 73 / 905 - 255\\n   E-Mail:             andree.kleinitzke@hegla.de\\n   Kein Termin:                    \\n   Technikerbesuch:\\n   \\n</td>\n",
       "      <td>[[Wurde Ihre Leitung ohne Ihre Zustimmung oder Absprache gekündigt?, Die Leitungskündigung erfolgte ohne Zustimmung des Kunden\\n#ED Eskalation Start#\\n#ED Level 1#\\n######ED######\\nEskalation durch: Matthias Gottlob, VB\\nEskalation Zeit: 13:50Uhr\\nEskalation Mail an: G-FMEP-TSSE2\\nRückruf durch: Fachabteilung\\nRückruf um: bei neuem Status\\n######ED######, Beim Kunden wurde ohne Absprache einen Umschaltung BIC auf MPLS durchgeführt., Es gab\\nhierzu keine Abstimmung mit dem Kunden!, Jetzt funktioniert die Telefonie nicht, da der\\nSIP nicht umgezogen wurde., Das Problem gab es schonmal bei einer Umschaltung, damals\\nhat der Kollege Christian Roosen unterstützt., Bitte ASAP kontakt mit Herrn Kleinitzke\\naufnehmen und das Thema klären., Weiterhin hat der Kunde keine Informationen bekommen,\\nwas genau bei der Migration noch gemacht wurde., Bitte auch hier um Aufklärung., Es gab\\nkeine Planung zur Umstellung des Standortes]]</td>\n",
       "      <td>luzie.jozwiak01</td>\n",
       "      <td>06-01-2025: Wurde Ihre Leitung ohne Ihre Zustimmung oder Absprache gekündigt?. Die Leitungskündigung erfolgte ohne Zustimmung des Kunden\\n#ED Eskalation Start#\\n#ED Level 1#\\n######ED######\\nEskalation durch: Matthias Gottlob, VB\\nEskalation Zeit: 13:50Uhr\\nEskalation Mail an: G-FMEP-TSSE2\\nRückruf durch: Fachabteilung\\nRückruf um: bei neuem Status\\n######ED######. Beim Kunden wurde ohne Absprache einen Umschaltung BIC auf MPLS durchgeführt.. Es gab\\nhierzu keine Abstimmung mit dem Kunden!. Jetzt funktioniert die Telefonie nicht, da der\\nSIP nicht umgezogen wurde.. Das Problem gab es schonmal bei einer Umschaltung, damals\\nhat der Kollege Christian Roosen unterstützt.. Bitte ASAP kontakt mit Herrn Kleinitzke\\naufnehmen und das Thema klären.. Weiterhin hat der Kunde keine Informationen bekommen,\\nwas genau bei der Migration noch gemacht wurde.. Bitte auch hier um Aufklärung.. Es gab\\nkeine Planung zur Umstellung des Standortes</td>\n",
       "    </tr>\n",
       "    <tr>\n",
       "      <th>0</th>\n",
       "      <td>neuen Eskalationskontakt $EskaID$ angelegt:\\n   Medium:                   Telefon\\n   initiiert durch:            Vodafone\\n\\n\\n   Grund:                      Sonstige Dokumentation\\n   Betreff:                     #ED-Level 1#\\n   Kurzbeschr. (intern): #EG-XMON-USE#\\n   Der Router ist lt. XMON Analyse seit dem  2025-01-02 15:21Uhr ausgefallen \\n   \\n</td>\n",
       "      <td>[Eine neue eskalation wurde initiert, da , [Der Router ist lt. XMON Analyse seit dem 2025-01-02 15:21Uhr ausgefallen]]</td>\n",
       "      <td>luzie.jozwiak01</td>\n",
       "      <td>06-01-2025: Eine neue eskalation wurde initiert, da . Der Router ist lt. XMON Analyse seit dem 2025-01-02 15:21Uhr ausgefallen</td>\n",
       "    </tr>\n",
       "    <tr>\n",
       "      <th>0</th>\n",
       "      <td>neuer Kundenkontakt angelegt:\\n   initiiert durch:                   Vodafone\\n   Grund:                             Eskalationsmeldung\\n   Kontaktname:                  Andree Kleinitzke\\n   CC-T:                               0049\\n   Tel.:                                 05273/905208\\n   erreicht:                           erreicht\\n   Funktionsbest. d. Kunde: \\n   KG geführt:                      \\n   Kurzbeschr.(intern):          Asp. Andree Kleinitzke unter Tel. 05273 / 905208 erreicht\\n   und über die Eskalationsaufnahme informiert.\\n   Build Eskalation zusätzlich unter ED-B 19066 erfasst und auf Level 4 eskaliert.\\n   Herrn Kleinitzke teilt mit, dass die alte Galsfaser Leitung bereits weggefalen ist und \\n   die neue Leitung bereits vor Ort liegt.\\n   Die Änderung auf MPLS Leitung ist ebenfalls erfolgt aber ohne den Schwenk der \\n   Telefonie. \\n   Mit Herrn Kleinitzke Rückruf vereinbart , WVL gesetzt\\n   Kein Termin:                    \\n   Technikerbesuch:           \\n   Kundeninfo:                     Asp. Andree Kleinitzke unter Tel. 05273 / 905208 \\n   erreicht und über die Eskalationsaufnahme informiert.\\n   Build Eskalation zusätzlich unter ED-B 19066 erfasst und auf Level 4 eskaliert.\\n   Herrn Kleinitzke teilt mit, dass die alte Galsfaser Leitung bereits weggefalen ist und \\n   die neue Leitung bereits vor Ort liegt.\\n   Die Änderung auf MPLS Leitung ist ebenfalls erfolgt aber ohne den Schwenk der \\n   Telefonie. \\n   Mit Herrn Kleinitzke Rückruf vereinbart\\n   \\n</td>\n",
       "      <td>[[Kunde kontaktiert, Asp., Andree Kleinitzke unter Tel. 05273 / 905208\\nerreicht und über die Eskalationsaufnahme informiert, Build Eskalation zusätzlich unter ED-B 19066 erfasst und auf Level 4 eskaliert, Herrn Kleinitzke teilt mit, dass die alte Galsfaser Leitung bereits weggefalen ist und\\ndie neue Leitung bereits vor Ort liegt\\nDie Änderung auf MPLS Leitung ist ebenfalls erfolgt aber ohne den Schwenk der\\nTelefonie, Rückruf vereinbart]]</td>\n",
       "      <td>luzie.jozwiak01</td>\n",
       "      <td>06-01-2025: Kunde kontaktiert, Asp.. Andree Kleinitzke unter Tel. 05273 / 905208\\nerreicht und über die Eskalationsaufnahme informiert. Build Eskalation zusätzlich unter ED-B 19066 erfasst und auf Level 4 eskaliert. Herrn Kleinitzke teilt mit, dass die alte Galsfaser Leitung bereits weggefalen ist und\\ndie neue Leitung bereits vor Ort liegt\\nDie Änderung auf MPLS Leitung ist ebenfalls erfolgt aber ohne den Schwenk der\\nTelefonie. Rückruf vereinbart</td>\n",
       "    </tr>\n",
       "    <tr>\n",
       "      <th>0</th>\n",
       "      <td>Auftrag AT0000010923012 geschlossen.\\n   Lösungsbeschreibung: Rückmeldeüberschrift: Fehler ICP\\n   Rückmeldebeschreibung: 06.01.2025 13:27:26 Deutsche Telekom AG DTAG\\n   Sehr geehrte Damen und Herren,\\n   \\n   \\n   die Leitung ist gekündigt seit dem 30.12.2024.\\n   \\n   \\n   Mit freundlichen Grüßen\\n   Deutsche Telekom Netzkontrollstelle Düsseldorf\\n   Datum für die Lösung: 06.01.2025 13:23:00\\n   \\n   Es konnte kein automatischer Test nach Auftragsrückmeldung angestossen werden.\\n   NDS-Fehlermeldung: -4593\\n   Datenfehler: Der Kundenanschluss \"GK Anbindung, S0000030373342\" wird von der \\n   Schnittstelle TAL-PROV nicht unterstützt, da kein passender Circuit vom Typ \"Voice \\n   Bearer\", \"DSL Bearer\", \"DSL + Voice Bearer\", \"TS Circuit (parallel)\", \"Bitstream\"\\n   \\n</td>\n",
       "      <td>[   Auftrag AT0000010923012 geschlossen von Deutsche Telekom, Lösungsbeschreibung: Rückmeldeüberschrift: Fehler ICP, Rückmeldebeschreibung: 06.01.2025 13:27:26 Deutsche Telekom AG DTAG\\n Sehr geehrte Damen und Herren,\\n \\n \\n die Leitung ist gekündigt seit dem 30.12.2024.\\n \\n \\n Mit freundlichen Grüßen\\n Deutsche Telekom Netzkontrollstelle Düsseldorf]</td>\n",
       "      <td>mohamed.abuhafez1</td>\n",
       "      <td>06-01-2025: Auftrag AT0000010923012 geschlossen von Deutsche Telekom. Lösungsbeschreibung: Rückmeldeüberschrift: Fehler ICP. Rückmeldebeschreibung: 06.01.2025 13:27:26 Deutsche Telekom AG DTAG\\n Sehr geehrte Damen und Herren,\\n \\n \\n die Leitung ist gekündigt seit dem 30.12.2024.\\n \\n \\n Mit freundlichen Grüßen\\n Deutsche Telekom Netzkontrollstelle Düsseldorf</td>\n",
       "    </tr>\n",
       "    <tr>\n",
       "      <th>0</th>\n",
       "      <td>neuer Kundenkontakt angelegt:\\n   initiiert durch:                   Vodafone\\n   Grund:                             Abschlussmeldung\\n   Kontaktname:                  Andree Kleinitzke\\n   CC-T:                               0049\\n   Tel.:                                 05273/905208\\n   erreicht:                           nicht erreicht\\n   Funktionsbest. d. Kunde: \\n   KG geführt:                      \\n   Kurzbeschr.(intern):          s\\n   Kein Termin:                    \\n   Technikerbesuch:           \\n   Kundeninfo:                     Ansprechpartner konnte wegen Abschlussmeldung nicht erreicht \\n   werden.  angerufen unter    0171/9942259\\n   \\n</td>\n",
       "      <td>[[Kunde kontaktiert, Ansprechpartner konnte wegen Abschlussmeldung nicht erreicht\\nwerden.]]</td>\n",
       "      <td>ammar.fahmy1</td>\n",
       "      <td>06-01-2025: Kunde kontaktiert, Ansprechpartner konnte wegen Abschlussmeldung nicht erreicht\\nwerden.</td>\n",
       "    </tr>\n",
       "    <tr>\n",
       "      <th>0</th>\n",
       "      <td>neuer Kundenkontakt angelegt:\\n   initiiert durch:                   Vodafone\\n   Grund:                             Statusmeldung\\n   Kontaktname:                  Andree Kleinitzke\\n   CC-T:                               0049\\n   Tel.:                                 05273/905208\\n   erreicht:                           erreicht\\n   Funktionsbest. d. Kunde: \\n   KG geführt:                      \\n   Kurzbeschr.(intern):          s\\n   Kein Termin:                    \\n   Technikerbesuch:           \\n   Kundeninfo:                     Kunde hat die alte leitung geschlatet und die eine neue \\n   abboniert, alles funktionert gut mit der neuen Leitung ausser Sip trunk und Voice over \\n   IP , Laut Kundensicht glaubt er dass die Migiration ist nicht 100% erfolgt.\\n   angerufen unter  0171/9942259\\n   \\n</td>\n",
       "      <td>[[Kunde kontaktiert, Kunde hat die alte leitung geschlatet und die eine neue\\nabboniert, alles funktionert gut mit der neuen Leitung ausser Sip trunk und Voice over\\nIP , Laut Kundensicht glaubt er dass die Migiration ist nicht 100% erfolgt]]</td>\n",
       "      <td>ammar.fahmy1</td>\n",
       "      <td>06-01-2025: Kunde kontaktiert, Kunde hat die alte leitung geschlatet und die eine neue\\nabboniert, alles funktionert gut mit der neuen Leitung ausser Sip trunk und Voice over\\nIP , Laut Kundensicht glaubt er dass die Migiration ist nicht 100% erfolgt</td>\n",
       "    </tr>\n",
       "    <tr>\n",
       "      <th>0</th>\n",
       "      <td>Voiceover ip und sip trunk, durch migration nicht erfolgt\\n   \\n</td>\n",
       "      <td>[Voiceover ip und sip trunk, durch migration nicht erfolgt]</td>\n",
       "      <td>ammar.fahmy1</td>\n",
       "      <td>06-01-2025: Voiceover ip und sip trunk, durch migration nicht erfolgt</td>\n",
       "    </tr>\n",
       "    <tr>\n",
       "      <th>0</th>\n",
       "      <td>\\n\\n   @@@@@@@@@@@@@@@@@@@@@\\n   \\n   Router ueber Regelweg erreichbar,\\n   \\n   \\n   HALHEGLAG1#sh int des\\n   Interface                      Status         Protocol Description\\n   Gi0/0/0                        up             up       \\n   Gi0/0/0.700                    up             up       ALU-ETH-Verbindung 100M \\n   1713037971 -&gt; lpzpos1 9.2/1\\n   Gi0/0/1                        admin down     down     \\n   Gi0/1/0                        up             up       \\n   Gi0/1/1                        down           down     \\n   Gi0/1/2                        down           down     \\n   Gi0/1/3                        down           down     \\n   Ce0/2/0                        up             up       \\n   Mobile-L2TP-Tunnel-Backup-Verbindung-&gt;VHGW-PE-Router stgvhgw11\\n   Ce0/2/1                        admin down     down     \\n   Lo0                            up             up       \\n   Lo700                          up             up       WAN CN Mobile\\n   Vp700                          up             down     Mobile \\n   L2TP-Tunnel-Backup-Verbindung 50M/50M-&gt; heglag000 stgvhgw11 heglag\\n   Vl1                            up             up       MPLS-VPN-LAN heglag Halle \\n   KoethenerStr. 33a\\n   pw100001                       up             up       \\n   HALHEGLAG1#sh int Gi0/0/0\\n   GigabitEthernet0/0/0 is up, line protocol is up \\n     Hardware is C1111-2x1GE, address is 5488.de06.cd80 (bia 5488.de06.cd80)\\n     MTU 4492 bytes, BW 100000 Kbit/sec, DLY 100 usec, \\n        reliability 255/255, txload 91/255, rxload 104/255\\n     Encapsulation 802.1Q Virtual LAN, Vlan ID  1., loopback not set\\n     Keepalive not supported \\n     Full Duplex, 100Mbps, link type is force-up, media type is RJ45\\n     output flow-control is on, input flow-control is on\\n     ARP type: ARPA, ARP Timeout 04:00:00\\n     Last input 00:00:00, output 00:00:00, output hang never\\n     Last clearing of \"show interface\" counters never\\n     Input queue: 1/375/0/0 (size/max/drops/flushes); Total output drops: 26\\n     Queueing strategy: Class-based queueing\\n     Output queue: 0/40 (size/max)\\n     5 minute input rate 40988000 bits/sec, 4997 packets/sec\\n     5 minute output rate 35913000 bits/sec, 4442 packets/sec\\n        1371395988 packets input, 1649501155514 bytes, 0 no buffer\\n        Received 4 broadcasts (0 IP multicasts)\\n        0 runts, 5 giants, 0 throttles \\n        5 input errors, 5 CRC, 0 frame, 0 overrun, 0 ignored\\n        0 watchdog, 0 multicast, 0 pause input\\n        1066929271 packets output, 807480722078 bytes, 0 underruns\\n        Output 4 broadcasts (0 IP multicasts)\\n        0 output errors, 0 collisions, 1 interface resets\\n        0 unknown protocol drops\\n        0 babbles, 0 late collision, 0 deferred\\n        0 lost carrier, 0 no carrier, 0 pause output\\n        0 output buffer failures, 0 output buffers swapped out\\n   \\n</td>\n",
       "      <td>[Router ueber Regelweg erreichbar,]</td>\n",
       "      <td>said.muhammed</td>\n",
       "      <td>07-01-2025: Router ueber Regelweg erreichbar,</td>\n",
       "    </tr>\n",
       "    <tr>\n",
       "      <th>0</th>\n",
       "      <td>neuer Kundenkontakt angelegt:\\n   initiiert durch:                   Vodafone\\n   Grund:                             Statusmeldung\\n   Kontaktname:                  Andree Kleinitzke\\n   CC-T:                               0049\\n   Tel.:                                 05273/905208\\n   erreicht:                           nicht erreicht\\n   Funktionsbest. d. Kunde: \\n   KG geführt:                      \\n   Kurzbeschr.(intern):          .\\n   Kein Termin:                    \\n   Technikerbesuch:           \\n\\n\\n   Kundeninfo:                     Es wurde keiner auf 05273/905208 und 0171/9942259 \\n   erreicht\\n   \\n</td>\n",
       "      <td>[[Kunde kontaktiert, Es wurde keiner auf 05273/905208 und 0171/9942259\\nerreicht]]</td>\n",
       "      <td>yehia.elseify</td>\n",
       "      <td>08-01-2025: Kunde kontaktiert, Es wurde keiner auf 05273/905208 und 0171/9942259\\nerreicht</td>\n",
       "    </tr>\n",
       "    <tr>\n",
       "      <th>0</th>\n",
       "      <td>neuer Kundenkontakt angelegt:\\n   initiiert durch:                   Vodafone\\n   Grund:                             Technische Rückfrage\\n   Kontaktname:                  Andree Kleinitzke\\n   CC-T:                               0049\\n   Tel.:                                 05273/905208\\n   erreicht:                           erreicht\\n   Funktionsbest. d. Kunde: \\n   KG geführt:                      \\n   Kurzbeschr.(intern):          \\n   Kein Termin:                    \\n   Technikerbesuch:           \\n   Kundeninfo:                     Guten Tag, \\n   \\n   leider konnten wir Sie wiederholt telefonisch nicht erreichen. Bitte teilen Sie uns \\n   eine andere, gültige Rufnummer oder einen spezifischen Termin mit, an dem wir Sie \\n   erreichen können. \\n   Bis uns neue Informationen vorliegen, werden wir selbstverständlich weiterhin \\n   versuchen, Sie unter der uns bekannten Rufnummer 0171/9942259 zu erreichen.\\n   \\n   Für eine schnelle Entstörung beachten Sie bitte auch Ihre Mitwirkungspflichten. Alle \\n   Infos dazu finden Sie unter: www.vodafone.de/basicchecks\\n   \\n   Details zur Störung:\\n   Unsere Ticketnummer:        TA0000017427771\\n   Ihre Ticketreferenz:                \\n   Meldedatum:                06.01.2025 11:30:43\\n   Betroffener Standort:        06118 Halle, Köthener Str. 33a\\n   Betroffene Anschlusskennung:halheglag1\\n    \\n   Prüfen Sie den Status Ihres Tickets, beantworten Sie ggf. unsere Rückfrage oder \\n   kontaktieren Sie uns über unseren Störungs-Tracker: \\n   https://business-service-portal.vodafone.de/incident-tracker/TA0000017427771?token=gX0G\\n   BeVxgEzU0pkTdpJrJO%2FddbMDGmH76zMksdEVnqs%3D\\n   \\n   Freundliche Grüße\\n   Ihr Vodafone BusinessTeam\\n   ________________________________________________________________\\n   Die gesetzlichen Pflichtangaben finden Sie auf www.vodafone.de/pflichtangaben</td>\n",
       "      <td>[[Kunde kontaktiert, Guten Tag,\\nleider konnten wir Sie wiederholt telefonisch nicht erreichen., Bitte teilen Sie uns\\neine andere, gültige Rufnummer oder einen spezifischen Termin mit, an dem wir Sie\\nerreichen können, Bis uns neue Informationen vorliegen, werden wir selbstverständlich weiterhin\\nversuchen, Sie unter der uns bekannten Rufnummer 0171/9942259 zu erreichen, Für eine schnelle Entstörung beachten Sie bitte auch Ihre Mitwirkungspflichten., Alle\\nInfos dazu finden Sie unter:]]</td>\n",
       "      <td>yehia.elseify</td>\n",
       "      <td>08-01-2025: Kunde kontaktiert, Guten Tag,\\nleider konnten wir Sie wiederholt telefonisch nicht erreichen.. Bitte teilen Sie uns\\neine andere, gültige Rufnummer oder einen spezifischen Termin mit, an dem wir Sie\\nerreichen können. Bis uns neue Informationen vorliegen, werden wir selbstverständlich weiterhin\\nversuchen, Sie unter der uns bekannten Rufnummer 0171/9942259 zu erreichen. Für eine schnelle Entstörung beachten Sie bitte auch Ihre Mitwirkungspflichten.. Alle\\nInfos dazu finden Sie unter:</td>\n",
       "    </tr>\n",
       "  </tbody>\n",
       "</table>\n",
       "</div>"
      ],
      "text/plain": [
       "                                                                                                                                                                                                                                                                                                                                                                                                                                                                                                                                                                                                                                                                                                                                                                                                                                                                                                                                                                                                                                                                                                                                                                                                                                                                                                                                                                                                                                                                                                                                                                                                                                                                                                                                                                                                                                                                                                                                                                                                                                                                                                                                                                                                                                                                                                                                                                                                                                                                                                                                                                                                                                                                                                                                                                                                                                                                                                                                                                                                BearbLog  \\\n",
       "0     neuer Kundenkontakt angelegt:\\n   initiiert durch:                   Vodafone\\n   Grund:                             Statusmeldung\\n   Kontaktname:                  Kleinitzke\\n   CC-T:                               0049\\n   Tel.:                                 05273/905208\\n   erreicht:                           erreicht\\n   Funktionsbest. d. Kunde: \\n   KG geführt:                      \\n   Kurzbeschr.(intern):          s\\n   Kein Termin:                    \\n   Technikerbesuch:           \\n   Kundeninfo:                     Ansprechpartner konnte wegen statusmeldung erreicht werden.  \\n   angerufen unter     0171/9942259, Basic checks werden gemacht\\n   \\n                                                                                                                                                                                                                                                                                                                                                                                                                                                                                                                                                                                                                                                                                                                                                                                                                                                                                                                                                                                                                                                                                                                                                                                                                                                                                                                                                                                                                                                                                                                                                                                                                                                                                                                                                                                                                                                                                                                                                                                                                                                                                                                                                                                                                                                                                                         \n",
       "0     Neuer Auftrag 'AT0000010923012'angelegt. Problembeschreibung: Kunde: 2710014138; \\n   Vodafone GmbH\\n   Referenznummer Supportfunktion\\n   (Support-Auftragsnummer)\\n   4447628550229\\n    \\n   Funktion\\n   LINERESET\\n   Vertragsnummer\\n   3051309947\\n   Ausführung erfolgreich\\n   ja\\n   Meldung\\n   Supportfunktion wurde erfolgreich durchgeführt\\n   Zeitpunkt der Ausführung\\n   06.01.2025, 12:14\\n   \\n   \\n                                                                                                                                                                                                                                                                                                                                                                                                                                                                                                                                                                                                                                                                                                                                                                                                                                                                                                                                                                                                                                                                                                                                                                                                                                                                                                                                                                                                                                                                                                                                                                                                                                                                                                                                                                                                                                                                                                                                                                                                                                                                                                                                                                                                                                                                                                                                                                                                                                                                                                                                                                             \n",
       "0     neuen Eskalationskontakt $EskaID$ angelegt:\\n   Medium:                   Mail\\n   initiiert durch:            Vodafone\\n   Grund:                      Eskalationsstart\\n   Betreff:                     #ED-Level 1#\\n   Kurzbeschr. (intern): #EG-Leitungskündigung#\\n   \\n   Frage: Wurde Ihre Leitung ohne Ihre Zustimmung oder Absprache gekündigt?\\n   Die Leitungskündigung erfolgte ohne Zustimmung des Kunden\\n   \\n   ######ED######\\n   Eskalation durch: Matthias Gottlob, VB \\n   Eskalation Zeit: 13:50Uhr \\n   Eskalation Mail an: G-FMEP-TSSE2\\n   Rückruf durch: Fachabteilung\\n   Rückruf um: bei neuem Status\\n   ######ED######\\n   \\n                                                                                                                                                                                                                                                                                                                                                                                                                                                                                                                                                                                                                                                                                                                                                                                                                                                                                                                                                                                                                                                                                                                                                                                                                                                                                                                                                                                                                                                                                                                                                                                                                                                                                                                                                                                                                                                                                                                                                                                                                                                                                                                                                                                                                                                                                                                                          \n",
       "0     neuer Kundenkontakt angelegt:\\n   initiiert durch:                   Vodafone\\n   Grund:                             Eskalationsmeldung\\n   Kontaktname:                  Matthias Gottlob, VB \\n   CC-T:                               \\n   Tel.:                                 \\n   erreicht:                           erreicht\\n   Funktionsbest. d. Kunde: \\n   KG geführt:                      \\n   Kurzbeschr.(intern):          #EG-Leitungskündigung#\\n\\n\\n   \\n   Frage: Wurde Ihre Leitung ohne Ihre Zustimmung oder Absprache gekündigt?\\n   Die Leitungskündigung erfolgte ohne Zustimmung des Kunden\\n   \\n   #ED Eskalation Start#\\n   #ED Level 1#\\n   ######ED######\\n   Eskalation durch: Matthias Gottlob, VB \\n   Eskalation Zeit: 13:50Uhr \\n   Eskalation Mail an: G-FMEP-TSSE2\\n   Rückruf durch: Fachabteilung\\n   Rückruf um: bei neuem Status\\n   ######ED######\\n   \\n   Beim Kunden wurde ohne Absprache einen Umschaltung BIC auf MPLS durchgeführt. Es gab \\n   hierzu keine Abstimmung mit dem Kunden! Jetzt funktioniert die Telefonie nicht, da der \\n   SIP nicht umgezogen wurde. Das Problem gab es schonmal bei einer Umschaltung, damals \\n   hat der Kollege Christian Roosen unterstützt. Bitte ASAP kontakt mit Herrn Kleinitzke \\n   aufnehmen und das Thema klären. Weiterhin hat der Kunde keine Informationen bekommen, \\n   was genau bei der Migration noch gemacht wurde. Bitte auch hier um Aufklärung. Es gab \\n   keine Planung zur Umstellung des Standortes. \\n   \\n   Asp. Kunde:\\n   Andree Kleinitzke, \\n   Tel.:                 +49 52 73 / 905 - 208\\n   Fax:                 +49 52 73 / 905 - 255\\n   E-Mail:             andree.kleinitzke@hegla.de\\n   Kein Termin:                    \\n   Technikerbesuch:\\n   \\n                                                                                                                                                                                                                                                                                                                                                                                                                                                                                                                                                                                                                                                                                                                                                                                                                                                                                                                                                                                                                                                                                                                                                                                                                \n",
       "0     neuen Eskalationskontakt $EskaID$ angelegt:\\n   Medium:                   Telefon\\n   initiiert durch:            Vodafone\\n\\n\\n   Grund:                      Sonstige Dokumentation\\n   Betreff:                     #ED-Level 1#\\n   Kurzbeschr. (intern): #EG-XMON-USE#\\n   Der Router ist lt. XMON Analyse seit dem  2025-01-02 15:21Uhr ausgefallen \\n   \\n                                                                                                                                                                                                                                                                                                                                                                                                                                                                                                                                                                                                                                                                                                                                                                                                                                                                                                                                                                                                                                                                                                                                                                                                                                                                                                                                                                                                                                                                                                                                                                                                                                                                                                                                                                                                                                                                                                                                                                                                                                                                                                                                                                                                                                                                                                                                                                                                                                                                                                                                                                                                                                    \n",
       "0     neuer Kundenkontakt angelegt:\\n   initiiert durch:                   Vodafone\\n   Grund:                             Eskalationsmeldung\\n   Kontaktname:                  Andree Kleinitzke\\n   CC-T:                               0049\\n   Tel.:                                 05273/905208\\n   erreicht:                           erreicht\\n   Funktionsbest. d. Kunde: \\n   KG geführt:                      \\n   Kurzbeschr.(intern):          Asp. Andree Kleinitzke unter Tel. 05273 / 905208 erreicht\\n   und über die Eskalationsaufnahme informiert.\\n   Build Eskalation zusätzlich unter ED-B 19066 erfasst und auf Level 4 eskaliert.\\n   Herrn Kleinitzke teilt mit, dass die alte Galsfaser Leitung bereits weggefalen ist und \\n   die neue Leitung bereits vor Ort liegt.\\n   Die Änderung auf MPLS Leitung ist ebenfalls erfolgt aber ohne den Schwenk der \\n   Telefonie. \\n   Mit Herrn Kleinitzke Rückruf vereinbart , WVL gesetzt\\n   Kein Termin:                    \\n   Technikerbesuch:           \\n   Kundeninfo:                     Asp. Andree Kleinitzke unter Tel. 05273 / 905208 \\n   erreicht und über die Eskalationsaufnahme informiert.\\n   Build Eskalation zusätzlich unter ED-B 19066 erfasst und auf Level 4 eskaliert.\\n   Herrn Kleinitzke teilt mit, dass die alte Galsfaser Leitung bereits weggefalen ist und \\n   die neue Leitung bereits vor Ort liegt.\\n   Die Änderung auf MPLS Leitung ist ebenfalls erfolgt aber ohne den Schwenk der \\n   Telefonie. \\n   Mit Herrn Kleinitzke Rückruf vereinbart\\n   \\n                                                                                                                                                                                                                                                                                                                                                                                                                                                                                                                                                                                                                                                                                                                                                                                                                                                                                                                                                                                                                                                                                                                                                                                                                                                                                                                                                                                                                                    \n",
       "0     Auftrag AT0000010923012 geschlossen.\\n   Lösungsbeschreibung: Rückmeldeüberschrift: Fehler ICP\\n   Rückmeldebeschreibung: 06.01.2025 13:27:26 Deutsche Telekom AG DTAG\\n   Sehr geehrte Damen und Herren,\\n   \\n   \\n   die Leitung ist gekündigt seit dem 30.12.2024.\\n   \\n   \\n   Mit freundlichen Grüßen\\n   Deutsche Telekom Netzkontrollstelle Düsseldorf\\n   Datum für die Lösung: 06.01.2025 13:23:00\\n   \\n   Es konnte kein automatischer Test nach Auftragsrückmeldung angestossen werden.\\n   NDS-Fehlermeldung: -4593\\n   Datenfehler: Der Kundenanschluss \"GK Anbindung, S0000030373342\" wird von der \\n   Schnittstelle TAL-PROV nicht unterstützt, da kein passender Circuit vom Typ \"Voice \\n   Bearer\", \"DSL Bearer\", \"DSL + Voice Bearer\", \"TS Circuit (parallel)\", \"Bitstream\"\\n   \\n                                                                                                                                                                                                                                                                                                                                                                                                                                                                                                                                                                                                                                                                                                                                                                                                                                                                                                                                                                                                                                                                                                                                                                                                                                                                                                                                                                                                                                                                                                                                                                                                                                                                                                                                                                                                                                                                                                                                                                                                                                                                                                                                                                                            \n",
       "0     neuer Kundenkontakt angelegt:\\n   initiiert durch:                   Vodafone\\n   Grund:                             Abschlussmeldung\\n   Kontaktname:                  Andree Kleinitzke\\n   CC-T:                               0049\\n   Tel.:                                 05273/905208\\n   erreicht:                           nicht erreicht\\n   Funktionsbest. d. Kunde: \\n   KG geführt:                      \\n   Kurzbeschr.(intern):          s\\n   Kein Termin:                    \\n   Technikerbesuch:           \\n   Kundeninfo:                     Ansprechpartner konnte wegen Abschlussmeldung nicht erreicht \\n   werden.  angerufen unter    0171/9942259\\n   \\n                                                                                                                                                                                                                                                                                                                                                                                                                                                                                                                                                                                                                                                                                                                                                                                                                                                                                                                                                                                                                                                                                                                                                                                                                                                                                                                                                                                                                                                                                                                                                                                                                                                                                                                                                                                                                                                                                                                                                                                                                                                                                                                                                                                                                                                                                                              \n",
       "0     neuer Kundenkontakt angelegt:\\n   initiiert durch:                   Vodafone\\n   Grund:                             Statusmeldung\\n   Kontaktname:                  Andree Kleinitzke\\n   CC-T:                               0049\\n   Tel.:                                 05273/905208\\n   erreicht:                           erreicht\\n   Funktionsbest. d. Kunde: \\n   KG geführt:                      \\n   Kurzbeschr.(intern):          s\\n   Kein Termin:                    \\n   Technikerbesuch:           \\n   Kundeninfo:                     Kunde hat die alte leitung geschlatet und die eine neue \\n   abboniert, alles funktionert gut mit der neuen Leitung ausser Sip trunk und Voice over \\n   IP , Laut Kundensicht glaubt er dass die Migiration ist nicht 100% erfolgt.\\n   angerufen unter  0171/9942259\\n   \\n                                                                                                                                                                                                                                                                                                                                                                                                                                                                                                                                                                                                                                                                                                                                                                                                                                                                                                                                                                                                                                                                                                                                                                                                                                                                                                                                                                                                                                                                                                                                                                                                                                                                                                                                                                                                                                                                                                                                                                                                                                                                                                                                                           \n",
       "0     Voiceover ip und sip trunk, durch migration nicht erfolgt\\n   \\n                                                                                                                                                                                                                                                                                                                                                                                                                                                                                                                                                                                                                                                                                                                                                                                                                                                                                                                                                                                                                                                                                                                                                                                                                                                                                                                                                                                                                                                                                                                                                                                                                                                                                                                                                                                                                                                                                                                                                                                                                                                                                                                                                                                                                                                                                                                                                                                                                                                                                                                                                                                                                                                                                                                                                                                                                                                                                                                                     \n",
       "0  \\n\\n   @@@@@@@@@@@@@@@@@@@@@\\n   \\n   Router ueber Regelweg erreichbar,\\n   \\n   \\n   HALHEGLAG1#sh int des\\n   Interface                      Status         Protocol Description\\n   Gi0/0/0                        up             up       \\n   Gi0/0/0.700                    up             up       ALU-ETH-Verbindung 100M \\n   1713037971 -> lpzpos1 9.2/1\\n   Gi0/0/1                        admin down     down     \\n   Gi0/1/0                        up             up       \\n   Gi0/1/1                        down           down     \\n   Gi0/1/2                        down           down     \\n   Gi0/1/3                        down           down     \\n   Ce0/2/0                        up             up       \\n   Mobile-L2TP-Tunnel-Backup-Verbindung->VHGW-PE-Router stgvhgw11\\n   Ce0/2/1                        admin down     down     \\n   Lo0                            up             up       \\n   Lo700                          up             up       WAN CN Mobile\\n   Vp700                          up             down     Mobile \\n   L2TP-Tunnel-Backup-Verbindung 50M/50M-> heglag000 stgvhgw11 heglag\\n   Vl1                            up             up       MPLS-VPN-LAN heglag Halle \\n   KoethenerStr. 33a\\n   pw100001                       up             up       \\n   HALHEGLAG1#sh int Gi0/0/0\\n   GigabitEthernet0/0/0 is up, line protocol is up \\n     Hardware is C1111-2x1GE, address is 5488.de06.cd80 (bia 5488.de06.cd80)\\n     MTU 4492 bytes, BW 100000 Kbit/sec, DLY 100 usec, \\n        reliability 255/255, txload 91/255, rxload 104/255\\n     Encapsulation 802.1Q Virtual LAN, Vlan ID  1., loopback not set\\n     Keepalive not supported \\n     Full Duplex, 100Mbps, link type is force-up, media type is RJ45\\n     output flow-control is on, input flow-control is on\\n     ARP type: ARPA, ARP Timeout 04:00:00\\n     Last input 00:00:00, output 00:00:00, output hang never\\n     Last clearing of \"show interface\" counters never\\n     Input queue: 1/375/0/0 (size/max/drops/flushes); Total output drops: 26\\n     Queueing strategy: Class-based queueing\\n     Output queue: 0/40 (size/max)\\n     5 minute input rate 40988000 bits/sec, 4997 packets/sec\\n     5 minute output rate 35913000 bits/sec, 4442 packets/sec\\n        1371395988 packets input, 1649501155514 bytes, 0 no buffer\\n        Received 4 broadcasts (0 IP multicasts)\\n        0 runts, 5 giants, 0 throttles \\n        5 input errors, 5 CRC, 0 frame, 0 overrun, 0 ignored\\n        0 watchdog, 0 multicast, 0 pause input\\n        1066929271 packets output, 807480722078 bytes, 0 underruns\\n        Output 4 broadcasts (0 IP multicasts)\\n        0 output errors, 0 collisions, 1 interface resets\\n        0 unknown protocol drops\\n        0 babbles, 0 late collision, 0 deferred\\n        0 lost carrier, 0 no carrier, 0 pause output\\n        0 output buffer failures, 0 output buffers swapped out\\n   \\n      \n",
       "0     neuer Kundenkontakt angelegt:\\n   initiiert durch:                   Vodafone\\n   Grund:                             Statusmeldung\\n   Kontaktname:                  Andree Kleinitzke\\n   CC-T:                               0049\\n   Tel.:                                 05273/905208\\n   erreicht:                           nicht erreicht\\n   Funktionsbest. d. Kunde: \\n   KG geführt:                      \\n   Kurzbeschr.(intern):          .\\n   Kein Termin:                    \\n   Technikerbesuch:           \\n\\n\\n   Kundeninfo:                     Es wurde keiner auf 05273/905208 und 0171/9942259 \\n   erreicht\\n   \\n                                                                                                                                                                                                                                                                                                                                                                                                                                                                                                                                                                                                                                                                                                                                                                                                                                                                                                                                                                                                                                                                                                                                                                                                                                                                                                                                                                                                                                                                                                                                                                                                                                                                                                                                                                                                                                                                                                                                                                                                                                                                                                                                                                                                                                                                                                                                                        \n",
       "0     neuer Kundenkontakt angelegt:\\n   initiiert durch:                   Vodafone\\n   Grund:                             Technische Rückfrage\\n   Kontaktname:                  Andree Kleinitzke\\n   CC-T:                               0049\\n   Tel.:                                 05273/905208\\n   erreicht:                           erreicht\\n   Funktionsbest. d. Kunde: \\n   KG geführt:                      \\n   Kurzbeschr.(intern):          \\n   Kein Termin:                    \\n   Technikerbesuch:           \\n   Kundeninfo:                     Guten Tag, \\n   \\n   leider konnten wir Sie wiederholt telefonisch nicht erreichen. Bitte teilen Sie uns \\n   eine andere, gültige Rufnummer oder einen spezifischen Termin mit, an dem wir Sie \\n   erreichen können. \\n   Bis uns neue Informationen vorliegen, werden wir selbstverständlich weiterhin \\n   versuchen, Sie unter der uns bekannten Rufnummer 0171/9942259 zu erreichen.\\n   \\n   Für eine schnelle Entstörung beachten Sie bitte auch Ihre Mitwirkungspflichten. Alle \\n   Infos dazu finden Sie unter: www.vodafone.de/basicchecks\\n   \\n   Details zur Störung:\\n   Unsere Ticketnummer:        TA0000017427771\\n   Ihre Ticketreferenz:                \\n   Meldedatum:                06.01.2025 11:30:43\\n   Betroffener Standort:        06118 Halle, Köthener Str. 33a\\n   Betroffene Anschlusskennung:halheglag1\\n    \\n   Prüfen Sie den Status Ihres Tickets, beantworten Sie ggf. unsere Rückfrage oder \\n   kontaktieren Sie uns über unseren Störungs-Tracker: \\n   https://business-service-portal.vodafone.de/incident-tracker/TA0000017427771?token=gX0G\\n   BeVxgEzU0pkTdpJrJO%2FddbMDGmH76zMksdEVnqs%3D\\n   \\n   Freundliche Grüße\\n   Ihr Vodafone BusinessTeam\\n   ________________________________________________________________\\n   Die gesetzlichen Pflichtangaben finden Sie auf www.vodafone.de/pflichtangaben                                                                                                                                                                                                                                                                                                                                                                                                                                                                                                                                                                                                                                                                                                                                                                                                                                                                                                                                                                                                                                                                      \n",
       "\n",
       "                                                                                                                                                                                                                                                                                                                                                                                                                                                                                                                                                                                                                                                                                                                                                                                                                                                                                                                                                      cleaned_bearblog  \\\n",
       "0  [[Kunde kontaktiert, Ansprechpartner konnte wegen statusmeldung erreicht werden\\nangerufen unter 0171/9942259, Basic checks werden gemacht]]                                                                                                                                                                                                                                                                                                                                                                                                                                                                                                                                                                                                                                                                                                                                                                                                                          \n",
       "0  [Neuer Auftrag 'AT0000010923012'angelegt. Problembeschreibung: Kunde: 2710014138;\\nVodafone GmbH\\nReferenznummer Supportfunktion\\n(Support-Auftragsnummer)\\nFunktion\\nLINERESET\\nVertragsnummer\\nAusfuhrung erfolgreich\\nja\\nMeldung\\nSupportfunktion wurde erfolgreich durchgefuhrt\\nZeitpunkt der Ausfuhrung]                                                                                                                                                                                                                                                                                                                                                                                                                                                                                                                                                                                                                                                       \n",
       "0  [Eine neue eskalation wurde initiert, da , [Wurde Ihre Leitung ohne Ihre Zustimmung oder Absprache gekündigt?, Die Leitungskündigung erfolgte ohne Zustimmung des Kunden\\n######ED######\\nEskalation durch: Matthias Gottlob, VB\\nEskalation Zeit: 13:50Uhr\\nEskalation Mail an: G-FMEP-TSSE2\\nRückruf durch: Fachabteilung\\nRückruf um: bei neuem Status\\n######ED######]]                                                                                                                                                                                                                                                                                                                                                                                                                                                                                                                                                                                           \n",
       "0  [[Wurde Ihre Leitung ohne Ihre Zustimmung oder Absprache gekündigt?, Die Leitungskündigung erfolgte ohne Zustimmung des Kunden\\n#ED Eskalation Start#\\n#ED Level 1#\\n######ED######\\nEskalation durch: Matthias Gottlob, VB\\nEskalation Zeit: 13:50Uhr\\nEskalation Mail an: G-FMEP-TSSE2\\nRückruf durch: Fachabteilung\\nRückruf um: bei neuem Status\\n######ED######, Beim Kunden wurde ohne Absprache einen Umschaltung BIC auf MPLS durchgeführt., Es gab\\nhierzu keine Abstimmung mit dem Kunden!, Jetzt funktioniert die Telefonie nicht, da der\\nSIP nicht umgezogen wurde., Das Problem gab es schonmal bei einer Umschaltung, damals\\nhat der Kollege Christian Roosen unterstützt., Bitte ASAP kontakt mit Herrn Kleinitzke\\naufnehmen und das Thema klären., Weiterhin hat der Kunde keine Informationen bekommen,\\nwas genau bei der Migration noch gemacht wurde., Bitte auch hier um Aufklärung., Es gab\\nkeine Planung zur Umstellung des Standortes]]   \n",
       "0  [Eine neue eskalation wurde initiert, da , [Der Router ist lt. XMON Analyse seit dem 2025-01-02 15:21Uhr ausgefallen]]                                                                                                                                                                                                                                                                                                                                                                                                                                                                                                                                                                                                                                                                                                                                                                                                                                                \n",
       "0  [[Kunde kontaktiert, Asp., Andree Kleinitzke unter Tel. 05273 / 905208\\nerreicht und über die Eskalationsaufnahme informiert, Build Eskalation zusätzlich unter ED-B 19066 erfasst und auf Level 4 eskaliert, Herrn Kleinitzke teilt mit, dass die alte Galsfaser Leitung bereits weggefalen ist und\\ndie neue Leitung bereits vor Ort liegt\\nDie Änderung auf MPLS Leitung ist ebenfalls erfolgt aber ohne den Schwenk der\\nTelefonie, Rückruf vereinbart]]                                                                                                                                                                                                                                                                                                                                                                                                                                                                                                          \n",
       "0  [   Auftrag AT0000010923012 geschlossen von Deutsche Telekom, Lösungsbeschreibung: Rückmeldeüberschrift: Fehler ICP, Rückmeldebeschreibung: 06.01.2025 13:27:26 Deutsche Telekom AG DTAG\\n Sehr geehrte Damen und Herren,\\n \\n \\n die Leitung ist gekündigt seit dem 30.12.2024.\\n \\n \\n Mit freundlichen Grüßen\\n Deutsche Telekom Netzkontrollstelle Düsseldorf]                                                                                                                                                                                                                                                                                                                                                                                                                                                                                                                                                                                                    \n",
       "0  [[Kunde kontaktiert, Ansprechpartner konnte wegen Abschlussmeldung nicht erreicht\\nwerden.]]                                                                                                                                                                                                                                                                                                                                                                                                                                                                                                                                                                                                                                                                                                                                                                                                                                                                          \n",
       "0  [[Kunde kontaktiert, Kunde hat die alte leitung geschlatet und die eine neue\\nabboniert, alles funktionert gut mit der neuen Leitung ausser Sip trunk und Voice over\\nIP , Laut Kundensicht glaubt er dass die Migiration ist nicht 100% erfolgt]]                                                                                                                                                                                                                                                                                                                                                                                                                                                                                                                                                                                                                                                                                                                    \n",
       "0  [Voiceover ip und sip trunk, durch migration nicht erfolgt]                                                                                                                                                                                                                                                                                                                                                                                                                                                                                                                                                                                                                                                                                                                                                                                                                                                                                                           \n",
       "0  [Router ueber Regelweg erreichbar,]                                                                                                                                                                                                                                                                                                                                                                                                                                                                                                                                                                                                                                                                                                                                                                                                                                                                                                                                   \n",
       "0  [[Kunde kontaktiert, Es wurde keiner auf 05273/905208 und 0171/9942259\\nerreicht]]                                                                                                                                                                                                                                                                                                                                                                                                                                                                                                                                                                                                                                                                                                                                                                                                                                                                                    \n",
       "0  [[Kunde kontaktiert, Guten Tag,\\nleider konnten wir Sie wiederholt telefonisch nicht erreichen., Bitte teilen Sie uns\\neine andere, gültige Rufnummer oder einen spezifischen Termin mit, an dem wir Sie\\nerreichen können, Bis uns neue Informationen vorliegen, werden wir selbstverständlich weiterhin\\nversuchen, Sie unter der uns bekannten Rufnummer 0171/9942259 zu erreichen, Für eine schnelle Entstörung beachten Sie bitte auch Ihre Mitwirkungspflichten., Alle\\nInfos dazu finden Sie unter:]]                                                                                                                                                                                                                                                                                                                                                                                                                                                          \n",
       "\n",
       "            Benutzer  \\\n",
       "0  ammar.fahmy1        \n",
       "0  ammar.fahmy1        \n",
       "0  luzie.jozwiak01     \n",
       "0  luzie.jozwiak01     \n",
       "0  luzie.jozwiak01     \n",
       "0  luzie.jozwiak01     \n",
       "0  mohamed.abuhafez1   \n",
       "0  ammar.fahmy1        \n",
       "0  ammar.fahmy1        \n",
       "0  ammar.fahmy1        \n",
       "0  said.muhammed       \n",
       "0  yehia.elseify       \n",
       "0  yehia.elseify       \n",
       "\n",
       "                                                                                                                                                                                                                                                                                                                                                                                                                                                                                                                                                                                                                                                                                                                                                                                                                                                                                                                                                            processed_bearblog  \n",
       "0  06-01-2025: Kunde kontaktiert, Ansprechpartner konnte wegen statusmeldung erreicht werden\\nangerufen unter 0171/9942259, Basic checks werden gemacht                                                                                                                                                                                                                                                                                                                                                                                                                                                                                                                                                                                                                                                                                                                                                                                                                         \n",
       "0  06-01-2025: Ein neuer auftrag wurde angelegt zugewiesen Deutsche Telekom. Problembeschreibung: Kunde: 2710014138;\\nVodafone GmbH\\nReferenznummer Supportfunktion\\n(Support-Auftragsnummer)\\nFunktion\\nLINERESET\\nVertragsnummer\\nAusfuhrung erfolgreich\\nja\\nMeldung\\nSupportfunktion wurde erfolgreich durchgefuhrt\\nZeitpunkt der Ausfuhrung                                                                                                                                                                                                                                                                                                                                                                                                                                                                                                                                                                                                                               \n",
       "0  06-01-2025: Eine neue eskalation wurde initiert, da . Wurde Ihre Leitung ohne Ihre Zustimmung oder Absprache gekündigt?. Die Leitungskündigung erfolgte ohne Zustimmung des Kunden\\n######ED######\\nEskalation durch: Matthias Gottlob, VB\\nEskalation Zeit: 13:50Uhr\\nEskalation Mail an: G-FMEP-TSSE2\\nRückruf durch: Fachabteilung\\nRückruf um: bei neuem Status\\n######ED######                                                                                                                                                                                                                                                                                                                                                                                                                                                                                                                                                                                          \n",
       "0  06-01-2025: Wurde Ihre Leitung ohne Ihre Zustimmung oder Absprache gekündigt?. Die Leitungskündigung erfolgte ohne Zustimmung des Kunden\\n#ED Eskalation Start#\\n#ED Level 1#\\n######ED######\\nEskalation durch: Matthias Gottlob, VB\\nEskalation Zeit: 13:50Uhr\\nEskalation Mail an: G-FMEP-TSSE2\\nRückruf durch: Fachabteilung\\nRückruf um: bei neuem Status\\n######ED######. Beim Kunden wurde ohne Absprache einen Umschaltung BIC auf MPLS durchgeführt.. Es gab\\nhierzu keine Abstimmung mit dem Kunden!. Jetzt funktioniert die Telefonie nicht, da der\\nSIP nicht umgezogen wurde.. Das Problem gab es schonmal bei einer Umschaltung, damals\\nhat der Kollege Christian Roosen unterstützt.. Bitte ASAP kontakt mit Herrn Kleinitzke\\naufnehmen und das Thema klären.. Weiterhin hat der Kunde keine Informationen bekommen,\\nwas genau bei der Migration noch gemacht wurde.. Bitte auch hier um Aufklärung.. Es gab\\nkeine Planung zur Umstellung des Standortes  \n",
       "0  06-01-2025: Eine neue eskalation wurde initiert, da . Der Router ist lt. XMON Analyse seit dem 2025-01-02 15:21Uhr ausgefallen                                                                                                                                                                                                                                                                                                                                                                                                                                                                                                                                                                                                                                                                                                                                                                                                                                               \n",
       "0  06-01-2025: Kunde kontaktiert, Asp.. Andree Kleinitzke unter Tel. 05273 / 905208\\nerreicht und über die Eskalationsaufnahme informiert. Build Eskalation zusätzlich unter ED-B 19066 erfasst und auf Level 4 eskaliert. Herrn Kleinitzke teilt mit, dass die alte Galsfaser Leitung bereits weggefalen ist und\\ndie neue Leitung bereits vor Ort liegt\\nDie Änderung auf MPLS Leitung ist ebenfalls erfolgt aber ohne den Schwenk der\\nTelefonie. Rückruf vereinbart                                                                                                                                                                                                                                                                                                                                                                                                                                                                                                         \n",
       "0  06-01-2025: Auftrag AT0000010923012 geschlossen von Deutsche Telekom. Lösungsbeschreibung: Rückmeldeüberschrift: Fehler ICP. Rückmeldebeschreibung: 06.01.2025 13:27:26 Deutsche Telekom AG DTAG\\n Sehr geehrte Damen und Herren,\\n \\n \\n die Leitung ist gekündigt seit dem 30.12.2024.\\n \\n \\n Mit freundlichen Grüßen\\n Deutsche Telekom Netzkontrollstelle Düsseldorf                                                                                                                                                                                                                                                                                                                                                                                                                                                                                                                                                                                                    \n",
       "0  06-01-2025: Kunde kontaktiert, Ansprechpartner konnte wegen Abschlussmeldung nicht erreicht\\nwerden.                                                                                                                                                                                                                                                                                                                                                                                                                                                                                                                                                                                                                                                                                                                                                                                                                                                                         \n",
       "0  06-01-2025: Kunde kontaktiert, Kunde hat die alte leitung geschlatet und die eine neue\\nabboniert, alles funktionert gut mit der neuen Leitung ausser Sip trunk und Voice over\\nIP , Laut Kundensicht glaubt er dass die Migiration ist nicht 100% erfolgt                                                                                                                                                                                                                                                                                                                                                                                                                                                                                                                                                                                                                                                                                                                   \n",
       "0  06-01-2025: Voiceover ip und sip trunk, durch migration nicht erfolgt                                                                                                                                                                                                                                                                                                                                                                                                                                                                                                                                                                                                                                                                                                                                                                                                                                                                                                        \n",
       "0  07-01-2025: Router ueber Regelweg erreichbar,                                                                                                                                                                                                                                                                                                                                                                                                                                                                                                                                                                                                                                                                                                                                                                                                                                                                                                                                \n",
       "0  08-01-2025: Kunde kontaktiert, Es wurde keiner auf 05273/905208 und 0171/9942259\\nerreicht                                                                                                                                                                                                                                                                                                                                                                                                                                                                                                                                                                                                                                                                                                                                                                                                                                                                                   \n",
       "0  08-01-2025: Kunde kontaktiert, Guten Tag,\\nleider konnten wir Sie wiederholt telefonisch nicht erreichen.. Bitte teilen Sie uns\\neine andere, gültige Rufnummer oder einen spezifischen Termin mit, an dem wir Sie\\nerreichen können. Bis uns neue Informationen vorliegen, werden wir selbstverständlich weiterhin\\nversuchen, Sie unter der uns bekannten Rufnummer 0171/9942259 zu erreichen. Für eine schnelle Entstörung beachten Sie bitte auch Ihre Mitwirkungspflichten.. Alle\\nInfos dazu finden Sie unter:                                                                                                                                                                                                                                                                                                                                                                                                                                                         "
      ]
     },
     "execution_count": 28,
     "metadata": {},
     "output_type": "execute_result"
    }
   ],
   "source": [
    "df_explode[['BearbLog', 'cleaned_bearblog', 'Benutzer', 'processed_bearblog']]\n",
    "# view all colwidth"
   ]
  },
  {
   "cell_type": "code",
   "execution_count": 29,
   "id": "e05474c5",
   "metadata": {},
   "outputs": [
    {
     "data": {
      "text/plain": [
       "Benutzer\n",
       "ammar.fahmy1         5\n",
       "luzie.jozwiak01      4\n",
       "yehia.elseify        2\n",
       "mohamed.abuhafez1    1\n",
       "said.muhammed        1\n",
       "Name: count, dtype: int64"
      ]
     },
     "execution_count": 29,
     "metadata": {},
     "output_type": "execute_result"
    }
   ],
   "source": [
    "df_explode['Benutzer'].value_counts()"
   ]
  },
  {
   "cell_type": "markdown",
   "id": "78de15bf",
   "metadata": {},
   "source": [
    "## Inspect the cleaned segments"
   ]
  },
  {
   "cell_type": "code",
   "execution_count": 30,
   "id": "881a29a2-9431-4be0-b104-29b727869db2",
   "metadata": {
    "tags": []
   },
   "outputs": [
    {
     "name": "stdout",
     "output_type": "stream",
     "text": [
      "06-01-2025: Kunde kontaktiert, Ansprechpartner konnte wegen statusmeldung erreicht werden\n",
      "angerufen unter 0171/9942259, Basic checks werden gemacht \n",
      " ---------------------------------------------------------------------------------\n",
      "\n",
      "06-01-2025: Ein neuer auftrag wurde angelegt zugewiesen Deutsche Telekom. Problembeschreibung: Kunde: 2710014138;\n",
      "Vodafone GmbH\n",
      "Referenznummer Supportfunktion\n",
      "(Support-Auftragsnummer)\n",
      "Funktion\n",
      "LINERESET\n",
      "Vertragsnummer\n",
      "Ausfuhrung erfolgreich\n",
      "ja\n",
      "Meldung\n",
      "Supportfunktion wurde erfolgreich durchgefuhrt\n",
      "Zeitpunkt der Ausfuhrung \n",
      " ---------------------------------------------------------------------------------\n",
      "\n",
      "06-01-2025: Eine neue eskalation wurde initiert, da . Wurde Ihre Leitung ohne Ihre Zustimmung oder Absprache gekündigt?. Die Leitungskündigung erfolgte ohne Zustimmung des Kunden\n",
      "######ED######\n",
      "Eskalation durch: Matthias Gottlob, VB\n",
      "Eskalation Zeit: 13:50Uhr\n",
      "Eskalation Mail an: G-FMEP-TSSE2\n",
      "Rückruf durch: Fachabteilung\n",
      "Rückruf um: bei neuem Status\n",
      "######ED###### \n",
      " ---------------------------------------------------------------------------------\n",
      "\n",
      "06-01-2025: Wurde Ihre Leitung ohne Ihre Zustimmung oder Absprache gekündigt?. Die Leitungskündigung erfolgte ohne Zustimmung des Kunden\n",
      "#ED Eskalation Start#\n",
      "#ED Level 1#\n",
      "######ED######\n",
      "Eskalation durch: Matthias Gottlob, VB\n",
      "Eskalation Zeit: 13:50Uhr\n",
      "Eskalation Mail an: G-FMEP-TSSE2\n",
      "Rückruf durch: Fachabteilung\n",
      "Rückruf um: bei neuem Status\n",
      "######ED######. Beim Kunden wurde ohne Absprache einen Umschaltung BIC auf MPLS durchgeführt.. Es gab\n",
      "hierzu keine Abstimmung mit dem Kunden!. Jetzt funktioniert die Telefonie nicht, da der\n",
      "SIP nicht umgezogen wurde.. Das Problem gab es schonmal bei einer Umschaltung, damals\n",
      "hat der Kollege Christian Roosen unterstützt.. Bitte ASAP kontakt mit Herrn Kleinitzke\n",
      "aufnehmen und das Thema klären.. Weiterhin hat der Kunde keine Informationen bekommen,\n",
      "was genau bei der Migration noch gemacht wurde.. Bitte auch hier um Aufklärung.. Es gab\n",
      "keine Planung zur Umstellung des Standortes \n",
      " ---------------------------------------------------------------------------------\n",
      "\n",
      "06-01-2025: Eine neue eskalation wurde initiert, da . Der Router ist lt. XMON Analyse seit dem 2025-01-02 15:21Uhr ausgefallen \n",
      " ---------------------------------------------------------------------------------\n",
      "\n",
      "06-01-2025: Kunde kontaktiert, Asp.. Andree Kleinitzke unter Tel. 05273 / 905208\n",
      "erreicht und über die Eskalationsaufnahme informiert. Build Eskalation zusätzlich unter ED-B 19066 erfasst und auf Level 4 eskaliert. Herrn Kleinitzke teilt mit, dass die alte Galsfaser Leitung bereits weggefalen ist und\n",
      "die neue Leitung bereits vor Ort liegt\n",
      "Die Änderung auf MPLS Leitung ist ebenfalls erfolgt aber ohne den Schwenk der\n",
      "Telefonie. Rückruf vereinbart \n",
      " ---------------------------------------------------------------------------------\n",
      "\n",
      "06-01-2025: Auftrag AT0000010923012 geschlossen von Deutsche Telekom. Lösungsbeschreibung: Rückmeldeüberschrift: Fehler ICP. Rückmeldebeschreibung: 06.01.2025 13:27:26 Deutsche Telekom AG DTAG\n",
      " Sehr geehrte Damen und Herren,\n",
      " \n",
      " \n",
      " die Leitung ist gekündigt seit dem 30.12.2024.\n",
      " \n",
      " \n",
      " Mit freundlichen Grüßen\n",
      " Deutsche Telekom Netzkontrollstelle Düsseldorf \n",
      " ---------------------------------------------------------------------------------\n",
      "\n",
      "06-01-2025: Kunde kontaktiert, Ansprechpartner konnte wegen Abschlussmeldung nicht erreicht\n",
      "werden. \n",
      " ---------------------------------------------------------------------------------\n",
      "\n",
      "06-01-2025: Kunde kontaktiert, Kunde hat die alte leitung geschlatet und die eine neue\n",
      "abboniert, alles funktionert gut mit der neuen Leitung ausser Sip trunk und Voice over\n",
      "IP , Laut Kundensicht glaubt er dass die Migiration ist nicht 100% erfolgt \n",
      " ---------------------------------------------------------------------------------\n",
      "\n",
      "06-01-2025: Voiceover ip und sip trunk, durch migration nicht erfolgt \n",
      " ---------------------------------------------------------------------------------\n",
      "\n",
      "07-01-2025: Router ueber Regelweg erreichbar, \n",
      " ---------------------------------------------------------------------------------\n",
      "\n",
      "08-01-2025: Kunde kontaktiert, Es wurde keiner auf 05273/905208 und 0171/9942259\n",
      "erreicht \n",
      " ---------------------------------------------------------------------------------\n",
      "\n",
      "08-01-2025: Kunde kontaktiert, Guten Tag,\n",
      "leider konnten wir Sie wiederholt telefonisch nicht erreichen.. Bitte teilen Sie uns\n",
      "eine andere, gültige Rufnummer oder einen spezifischen Termin mit, an dem wir Sie\n",
      "erreichen können. Bis uns neue Informationen vorliegen, werden wir selbstverständlich weiterhin\n",
      "versuchen, Sie unter der uns bekannten Rufnummer 0171/9942259 zu erreichen. Für eine schnelle Entstörung beachten Sie bitte auch Ihre Mitwirkungspflichten.. Alle\n",
      "Infos dazu finden Sie unter: \n",
      " ---------------------------------------------------------------------------------\n",
      "\n"
     ]
    }
   ],
   "source": [
    "for v in df_explode.processed_bearblog.values:\n",
    "    print(\n",
    "        v,\n",
    "        \"\\n\",\n",
    "        \"---------------------------------------------------------------------------------\\n\",\n",
    "    )"
   ]
  },
  {
   "cell_type": "code",
   "execution_count": 31,
   "id": "c4229c22",
   "metadata": {
    "tags": []
   },
   "outputs": [],
   "source": [
    "model = load_resources(\"Qwen2.5-32B-Ins_Q2_K_L\")"
   ]
  },
  {
   "cell_type": "code",
   "execution_count": 32,
   "id": "5a6f66a2-f10d-4cc6-af08-ab14b5617fd9",
   "metadata": {
    "tags": []
   },
   "outputs": [
    {
     "data": {
      "text/plain": [
       "ChatOllama(model='hf.co/bartowski/Qwen2.5-32B-Instruct-GGUF:Q2_K_L', temperature=0.0)"
      ]
     },
     "execution_count": 32,
     "metadata": {},
     "output_type": "execute_result"
    }
   ],
   "source": [
    "model"
   ]
  },
  {
   "cell_type": "markdown",
   "id": "fdef0428-edbe-4f4c-8da1-978f296d8b5e",
   "metadata": {},
   "source": [
    "## Summarize the ticket"
   ]
  },
  {
   "cell_type": "code",
   "execution_count": 33,
   "id": "aff2daed-f180-460b-b5cd-9cd13de7381b",
   "metadata": {
    "tags": []
   },
   "outputs": [
    {
     "name": "stdout",
     "output_type": "stream",
     "text": [
      "CPU times: user 12.8 ms, sys: 4.5 ms, total: 17.3 ms\n",
      "Wall time: 1min 7s\n"
     ]
    }
   ],
   "source": [
    "%%time\n",
    "results = summarize(\n",
    "    df_explode,\n",
    "    model,\n",
    "    # worklog_summarization_prompt,\n",
    "    # desc_summarization_prompt,\n",
    ")"
   ]
  },
  {
   "cell_type": "code",
   "execution_count": 34,
   "id": "c4fdfcdb-1c3f-439e-9a3e-9bb243cbc772",
   "metadata": {
    "tags": []
   },
   "outputs": [
    {
     "name": "stdout",
     "output_type": "stream",
     "text": [
      "Problembeschreibung: Keine Telefonie möglich nach MPLS-Migration am Standort Halle. Störung Internet - Verbindungsabbrüche.\n",
      "06-01-2025: Kunde kontaktiert, Ansprechpartner konnte wegen statusmeldung erreicht werden. Ein neuer Auftrag wurde angelegt und zugewiesen an Deutsche Telekom mit der Beschreibung des Problems durch den Kunden. Die Ausführung war erfolgreich und die Supportfunktion LINERESET wurde durchgeführt.  \n",
      "06-01-2025: Eskalation wegen Leitungskündigung ohne Zustimmung des Kunden initiiert durch Matthias Gottlob, VB. Es gab keine Abstimmung zur Umschaltung BIC auf MPLS und die SIP war nicht umgezogen. Der Router ist seit 2025-01-02 ausgefallen.  \n",
      "06-01-2025: Kunde kontaktiert, Asp. Andree Kleinitzke erreicht und über Eskalation informiert. Die alte Leitung war weggefallen und die neue Leitung lag vor Ort.  \n",
      "06-01-2025: Auftrag geschlossen von Deutsche Telekom mit Lösungsbeschreibung: Fehler ICP, Leitung gekündigt seit 30.12.2024.  \n",
      "07-01-2025: Router über Regelweg erreichbar.  \n",
      "08-01-2025: Kunde kontaktiert, erreicht nicht unter den bekannten Nummern.\n"
     ]
    }
   ],
   "source": [
    "print(results)"
   ]
  },
  {
   "cell_type": "code",
   "execution_count": 35,
   "id": "50fe6a92-5058-40a9-ba68-39df3d87e767",
   "metadata": {},
   "outputs": [],
   "source": [
    "# Ticket 771 \n",
    "\n",
    "# •\tDie Basic Checks wurden mit dem Kunden durchgefuehrt. Die Deutsche Telekom Netzkontrolle wurde beauftragt.\n",
    "# •\tDer Kunde wurde informiert, dass seine Eskalation aufgenommen ist. Die Änderung auf MPLS Leitung ist ebenfalls erfolgt aber ohne den Schwenk der Telefonie. \n",
    "# •\tDie Deutsche Telekom meldete, dass die Leitung gekuendigt ist.\n",
    "# •\tDer Kunde hat die alte Leitung geschaltet und die eine neue abonniert, alles funktioniert gut mit der neuen Leitung außer VoIP.\n",
    "# •\tDer Kunde ist nicht erreichbar, weder per Mail noch telefonisch.\n",
    "\n",
    "\n",
    "# • The basic checks were carried out with the customer. Deutsche Telekom network control was commissioned.\n",
    "# • The customer has been informed that their escalation has been processed. The change to MPLS line was also made but without the telephony change. \n",
    "# • Deutsche Telekom reported that the line was terminated.\n",
    "# • The customer switched the old line and subscribed to the new one, everything works fine with the new line except VoIP.\n",
    "# • The customer cannot be reached, neither by email nor by telephone."
   ]
  },
  {
   "cell_type": "code",
   "execution_count": 36,
   "id": "afb585e0-8a87-4ef5-9348-18e74b7208f1",
   "metadata": {},
   "outputs": [],
   "source": [
    "# long ticket \n",
    "\n",
    "# •\tPaketverluste auf der Verbindung wurde durch Pingtest festgestellt.\n",
    "# •\tEin Vodafone Techniker wurde beauftragt, um das Modem zu tauschen.\n",
    "# •\tNach dem Modemtausch können wir weder Paketverluste noch Abbrüche feststellen.\n",
    "# •\tDer Kunde wurde informiert, dass wir somit das Ticket schließen werden.\n",
    "# •\tEin neuer Alarm, dass die Störung wieder aufgetreten ist.\n",
    "# •\tWeitere Paketverluste wurden festgestellt und die Deutsche Telekom wurde beauftragt.\n",
    "# •\tDie Deutsche Telekom meldete zurück, dass kein Fehler feststellbar ist.\n",
    "# •\tDie Deutsche Telekom wurde wieder beauftragt und nochmal kein Fehler festgestellt.\n",
    "# •\tDie Deutsche Telekom wurde zum 3. Mal beauftragt. Der Fall wurde bei DTAG eskaliert.\n",
    "# •\tDer Fall ist weiterhin bei der Telekom wegen Langzeitmessung\n",
    "\n",
    "# • Packet loss on the connection was detected by ping test.\n",
    "# • A Vodafone technician was hired to replace the modem.\n",
    "# • After replacing the modem, we cannot detect any packet losses or terminations.\n",
    "# • The customer has been informed that we will therefore close the ticket.\n",
    "# • A new alarm that the fault has occurred again.\n",
    "# • Further packet losses were discovered and Deutsche Telekom was commissioned.\n",
    "# • Deutsche Telekom reported back that no errors could be detected.\n",
    "# • Deutsche Telekom was commissioned again and again no errors were found.\n",
    "# • Deutsche Telekom was commissioned for the third time. The case was escalated to DTAG.\n",
    "# • The case is still with Telekom because of long-term measurement\n"
   ]
  },
  {
   "cell_type": "code",
   "execution_count": 37,
   "id": "06afbb5a-c479-4114-9f63-12486833eb1d",
   "metadata": {},
   "outputs": [],
   "source": [
    "# Das Modem ist offline. Kabel Deutschland wurde beauftragt. \n",
    "\n",
    "# Kabel Deutschland meldete zurück, dass alles von ihrer Seite in Ordnung ist. \n",
    "\n",
    "# Das Modem ist weiterhin offline. Modem kann nicht resettet werden. Beim Aufruf der Schnittstelle zum Resetten des Modems ist ein Fehler aufgetreten. \n",
    "\n",
    "# Der Kunde meldete, dass die Störung weiterhin vorhanden ist. \n",
    "\n",
    "# Kabel Deutschland wurde wieder mit der Entstörung beauftragt. \n",
    "\n",
    "\n",
    "# The modem is offline. Kabel Deutschland was commissioned. \n",
    "\n",
    "# Kabel Deutschland reported back that everything was fine on their part. \n",
    "\n",
    "# The modem is still offline. Modem cannot be reset. An error occurred when calling the interface to reset the modem. \n",
    "\n",
    "# The customer reported that the problem still exists. \n",
    "\n",
    "# Kabel Deutschland was again commissioned with the troubleshooting.\n"
   ]
  },
  {
   "cell_type": "markdown",
   "id": "6fbc465b-f9f1-4007-b9fd-cf72a20b7084",
   "metadata": {},
   "source": [
    "## Translating results for readability"
   ]
  },
  {
   "cell_type": "code",
   "execution_count": 38,
   "id": "c1f98632-3c6c-42ff-890e-34e584496937",
   "metadata": {
    "tags": []
   },
   "outputs": [],
   "source": [
    "trans_prompt = f\"translate from German to English: {results}\""
   ]
  },
  {
   "cell_type": "code",
   "execution_count": 39,
   "id": "d1cee5f1-1813-4d4c-ae60-4ab1e0abd7ca",
   "metadata": {
    "tags": []
   },
   "outputs": [
    {
     "name": "stdout",
     "output_type": "stream",
     "text": [
      "Problem description: No telephony possible after MPLS migration at the Halle site. Internet disruption - connection failures.\n",
      "January 6, 2025: Customer contacted; point of contact could be reached due to status message. A new order was created and assigned to Deutsche Telekom with the problem described by the customer. The execution was successful, and the support function LINERESET was performed.\n",
      "January 6, 2025: Escalation initiated by Matthias Gottlob, VB, regarding unauthorized line cancellation without customer consent. There was no coordination for switching BIC to MPLS, and SIP was not migrated. The router has been down since January 2, 2025.\n",
      "January 6, 2025: Customer contacted; Asp. Andree Kleinitzke reached and informed about the escalation. The old line had fallen away, and the new line was on-site.\n",
      "January 6, 2025: Order closed by Deutsche Telekom with solution description: ICP error, line canceled since December 30, 2024.\n",
      "January 7, 2025: Router accessible via regular route.\n",
      "January 8, 2025: Customer contacted; could not be reached under known numbers.\n",
      "CPU times: user 103 ms, sys: 7.27 ms, total: 110 ms\n",
      "Wall time: 33.4 s\n"
     ]
    }
   ],
   "source": [
    "%%time\n",
    "print(model.invoke(trans_prompt).content)"
   ]
  },
  {
   "cell_type": "code",
   "execution_count": 40,
   "id": "e2047ad0-f542-4aed-a8d7-b4edba884d66",
   "metadata": {},
   "outputs": [
    {
     "ename": "NameError",
     "evalue": "name 'asd' is not defined",
     "output_type": "error",
     "traceback": [
      "\u001b[0;31m---------------------------------------------------------------------------\u001b[0m",
      "\u001b[0;31mNameError\u001b[0m                                 Traceback (most recent call last)",
      "Cell \u001b[0;32mIn[40], line 1\u001b[0m\n\u001b[0;32m----> 1\u001b[0m \u001b[43masd\u001b[49m \u001b[38;5;66;03m# to force the code to stop \u001b[39;00m\n",
      "\u001b[0;31mNameError\u001b[0m: name 'asd' is not defined"
     ]
    }
   ],
   "source": [
    "asd # to force the code to stop "
   ]
  },
  {
   "cell_type": "markdown",
   "id": "16e2e2e5",
   "metadata": {},
   "source": [
    "## Batch clean tickets"
   ]
  },
  {
   "cell_type": "code",
   "execution_count": null,
   "id": "a9f70802",
   "metadata": {},
   "outputs": [],
   "source": [
    "with open(\"../data/cleaned_summ_tickets/ticket_summaries.txt\", 'w', encoding='utf-8') as f:\n",
    "    results_all = batch_clean_summarization()\n",
    "    f.writelines(results_all)"
   ]
  },
  {
   "cell_type": "markdown",
   "id": "a9e7d156-eb26-4cba-a3e8-146bf6988df8",
   "metadata": {},
   "source": [
    "## Batch clean and summarize tickets"
   ]
  },
  {
   "cell_type": "code",
   "execution_count": 41,
   "id": "441e8ae1-e71e-46e0-a6b9-501c88619b45",
   "metadata": {
    "tags": []
   },
   "outputs": [
    {
     "name": "stdout",
     "output_type": "stream",
     "text": [
      "TA0000017497770.rep\n"
     ]
    },
    {
     "name": "stderr",
     "output_type": "stream",
     "text": [
      "/home/jupyter/Ticket_summarization_resolution/DE_ticket_summarization_resolution/notebooks/../src/sum_fns.py:1298: SettingWithCopyWarning: \n",
      "A value is trying to be set on a copy of a slice from a DataFrame.\n",
      "Try using .loc[row_indexer,col_indexer] = value instead\n",
      "\n",
      "See the caveats in the documentation: https://pandas.pydata.org/pandas-docs/stable/user_guide/indexing.html#returning-a-view-versus-a-copy\n",
      "  df[\"processed_bearblog\"] = df['processed_bearblog'].apply(extract_and_filter_text_within_symbols)\n",
      "/home/jupyter/Ticket_summarization_resolution/DE_ticket_summarization_resolution/notebooks/../src/sum_fns.py:1300: SettingWithCopyWarning: \n",
      "A value is trying to be set on a copy of a slice from a DataFrame.\n",
      "Try using .loc[row_indexer,col_indexer] = value instead\n",
      "\n",
      "See the caveats in the documentation: https://pandas.pydata.org/pandas-docs/stable/user_guide/indexing.html#returning-a-view-versus-a-copy\n",
      "  df[\"processed_bearblog\"] = df['day'] + \": \" + df['processed_bearblog']\n"
     ]
    },
    {
     "name": "stdout",
     "output_type": "stream",
     "text": [
      "TA0000017488448.rep\n"
     ]
    },
    {
     "name": "stderr",
     "output_type": "stream",
     "text": [
      "/home/jupyter/Ticket_summarization_resolution/DE_ticket_summarization_resolution/notebooks/../src/sum_fns.py:1298: SettingWithCopyWarning: \n",
      "A value is trying to be set on a copy of a slice from a DataFrame.\n",
      "Try using .loc[row_indexer,col_indexer] = value instead\n",
      "\n",
      "See the caveats in the documentation: https://pandas.pydata.org/pandas-docs/stable/user_guide/indexing.html#returning-a-view-versus-a-copy\n",
      "  df[\"processed_bearblog\"] = df['processed_bearblog'].apply(extract_and_filter_text_within_symbols)\n",
      "/home/jupyter/Ticket_summarization_resolution/DE_ticket_summarization_resolution/notebooks/../src/sum_fns.py:1300: SettingWithCopyWarning: \n",
      "A value is trying to be set on a copy of a slice from a DataFrame.\n",
      "Try using .loc[row_indexer,col_indexer] = value instead\n",
      "\n",
      "See the caveats in the documentation: https://pandas.pydata.org/pandas-docs/stable/user_guide/indexing.html#returning-a-view-versus-a-copy\n",
      "  df[\"processed_bearblog\"] = df['day'] + \": \" + df['processed_bearblog']\n"
     ]
    },
    {
     "name": "stdout",
     "output_type": "stream",
     "text": [
      "TA0000017427771.rep\n"
     ]
    },
    {
     "name": "stderr",
     "output_type": "stream",
     "text": [
      "/home/jupyter/Ticket_summarization_resolution/DE_ticket_summarization_resolution/notebooks/../src/sum_fns.py:1298: SettingWithCopyWarning: \n",
      "A value is trying to be set on a copy of a slice from a DataFrame.\n",
      "Try using .loc[row_indexer,col_indexer] = value instead\n",
      "\n",
      "See the caveats in the documentation: https://pandas.pydata.org/pandas-docs/stable/user_guide/indexing.html#returning-a-view-versus-a-copy\n",
      "  df[\"processed_bearblog\"] = df['processed_bearblog'].apply(extract_and_filter_text_within_symbols)\n",
      "/home/jupyter/Ticket_summarization_resolution/DE_ticket_summarization_resolution/notebooks/../src/sum_fns.py:1300: SettingWithCopyWarning: \n",
      "A value is trying to be set on a copy of a slice from a DataFrame.\n",
      "Try using .loc[row_indexer,col_indexer] = value instead\n",
      "\n",
      "See the caveats in the documentation: https://pandas.pydata.org/pandas-docs/stable/user_guide/indexing.html#returning-a-view-versus-a-copy\n",
      "  df[\"processed_bearblog\"] = df['day'] + \": \" + df['processed_bearblog']\n"
     ]
    },
    {
     "name": "stdout",
     "output_type": "stream",
     "text": [
      "TA0000017490332.rep\n"
     ]
    },
    {
     "name": "stderr",
     "output_type": "stream",
     "text": [
      "/home/jupyter/Ticket_summarization_resolution/DE_ticket_summarization_resolution/notebooks/../src/sum_fns.py:1298: SettingWithCopyWarning: \n",
      "A value is trying to be set on a copy of a slice from a DataFrame.\n",
      "Try using .loc[row_indexer,col_indexer] = value instead\n",
      "\n",
      "See the caveats in the documentation: https://pandas.pydata.org/pandas-docs/stable/user_guide/indexing.html#returning-a-view-versus-a-copy\n",
      "  df[\"processed_bearblog\"] = df['processed_bearblog'].apply(extract_and_filter_text_within_symbols)\n",
      "/home/jupyter/Ticket_summarization_resolution/DE_ticket_summarization_resolution/notebooks/../src/sum_fns.py:1300: SettingWithCopyWarning: \n",
      "A value is trying to be set on a copy of a slice from a DataFrame.\n",
      "Try using .loc[row_indexer,col_indexer] = value instead\n",
      "\n",
      "See the caveats in the documentation: https://pandas.pydata.org/pandas-docs/stable/user_guide/indexing.html#returning-a-view-versus-a-copy\n",
      "  df[\"processed_bearblog\"] = df['day'] + \": \" + df['processed_bearblog']\n"
     ]
    },
    {
     "name": "stdout",
     "output_type": "stream",
     "text": [
      "TA0000017445480.rep\n"
     ]
    },
    {
     "name": "stderr",
     "output_type": "stream",
     "text": [
      "/home/jupyter/Ticket_summarization_resolution/DE_ticket_summarization_resolution/notebooks/../src/sum_fns.py:1298: SettingWithCopyWarning: \n",
      "A value is trying to be set on a copy of a slice from a DataFrame.\n",
      "Try using .loc[row_indexer,col_indexer] = value instead\n",
      "\n",
      "See the caveats in the documentation: https://pandas.pydata.org/pandas-docs/stable/user_guide/indexing.html#returning-a-view-versus-a-copy\n",
      "  df[\"processed_bearblog\"] = df['processed_bearblog'].apply(extract_and_filter_text_within_symbols)\n",
      "/home/jupyter/Ticket_summarization_resolution/DE_ticket_summarization_resolution/notebooks/../src/sum_fns.py:1300: SettingWithCopyWarning: \n",
      "A value is trying to be set on a copy of a slice from a DataFrame.\n",
      "Try using .loc[row_indexer,col_indexer] = value instead\n",
      "\n",
      "See the caveats in the documentation: https://pandas.pydata.org/pandas-docs/stable/user_guide/indexing.html#returning-a-view-versus-a-copy\n",
      "  df[\"processed_bearblog\"] = df['day'] + \": \" + df['processed_bearblog']\n"
     ]
    },
    {
     "name": "stdout",
     "output_type": "stream",
     "text": [
      "TA0000017490033.rep\n"
     ]
    },
    {
     "name": "stderr",
     "output_type": "stream",
     "text": [
      "/home/jupyter/Ticket_summarization_resolution/DE_ticket_summarization_resolution/notebooks/../src/sum_fns.py:1298: SettingWithCopyWarning: \n",
      "A value is trying to be set on a copy of a slice from a DataFrame.\n",
      "Try using .loc[row_indexer,col_indexer] = value instead\n",
      "\n",
      "See the caveats in the documentation: https://pandas.pydata.org/pandas-docs/stable/user_guide/indexing.html#returning-a-view-versus-a-copy\n",
      "  df[\"processed_bearblog\"] = df['processed_bearblog'].apply(extract_and_filter_text_within_symbols)\n",
      "/home/jupyter/Ticket_summarization_resolution/DE_ticket_summarization_resolution/notebooks/../src/sum_fns.py:1300: SettingWithCopyWarning: \n",
      "A value is trying to be set on a copy of a slice from a DataFrame.\n",
      "Try using .loc[row_indexer,col_indexer] = value instead\n",
      "\n",
      "See the caveats in the documentation: https://pandas.pydata.org/pandas-docs/stable/user_guide/indexing.html#returning-a-view-versus-a-copy\n",
      "  df[\"processed_bearblog\"] = df['day'] + \": \" + df['processed_bearblog']\n"
     ]
    },
    {
     "name": "stdout",
     "output_type": "stream",
     "text": [
      "TA0000017426456.rep\n",
      "TA0000017492492.rep\n"
     ]
    },
    {
     "name": "stderr",
     "output_type": "stream",
     "text": [
      "/home/jupyter/Ticket_summarization_resolution/DE_ticket_summarization_resolution/notebooks/../src/sum_fns.py:1298: SettingWithCopyWarning: \n",
      "A value is trying to be set on a copy of a slice from a DataFrame.\n",
      "Try using .loc[row_indexer,col_indexer] = value instead\n",
      "\n",
      "See the caveats in the documentation: https://pandas.pydata.org/pandas-docs/stable/user_guide/indexing.html#returning-a-view-versus-a-copy\n",
      "  df[\"processed_bearblog\"] = df['processed_bearblog'].apply(extract_and_filter_text_within_symbols)\n",
      "/home/jupyter/Ticket_summarization_resolution/DE_ticket_summarization_resolution/notebooks/../src/sum_fns.py:1300: SettingWithCopyWarning: \n",
      "A value is trying to be set on a copy of a slice from a DataFrame.\n",
      "Try using .loc[row_indexer,col_indexer] = value instead\n",
      "\n",
      "See the caveats in the documentation: https://pandas.pydata.org/pandas-docs/stable/user_guide/indexing.html#returning-a-view-versus-a-copy\n",
      "  df[\"processed_bearblog\"] = df['day'] + \": \" + df['processed_bearblog']\n"
     ]
    },
    {
     "name": "stdout",
     "output_type": "stream",
     "text": [
      "TA0000017415456 1.rep\n"
     ]
    },
    {
     "name": "stderr",
     "output_type": "stream",
     "text": [
      "/home/jupyter/Ticket_summarization_resolution/DE_ticket_summarization_resolution/notebooks/../src/sum_fns.py:1298: SettingWithCopyWarning: \n",
      "A value is trying to be set on a copy of a slice from a DataFrame.\n",
      "Try using .loc[row_indexer,col_indexer] = value instead\n",
      "\n",
      "See the caveats in the documentation: https://pandas.pydata.org/pandas-docs/stable/user_guide/indexing.html#returning-a-view-versus-a-copy\n",
      "  df[\"processed_bearblog\"] = df['processed_bearblog'].apply(extract_and_filter_text_within_symbols)\n",
      "/home/jupyter/Ticket_summarization_resolution/DE_ticket_summarization_resolution/notebooks/../src/sum_fns.py:1300: SettingWithCopyWarning: \n",
      "A value is trying to be set on a copy of a slice from a DataFrame.\n",
      "Try using .loc[row_indexer,col_indexer] = value instead\n",
      "\n",
      "See the caveats in the documentation: https://pandas.pydata.org/pandas-docs/stable/user_guide/indexing.html#returning-a-view-versus-a-copy\n",
      "  df[\"processed_bearblog\"] = df['day'] + \": \" + df['processed_bearblog']\n"
     ]
    },
    {
     "name": "stdout",
     "output_type": "stream",
     "text": [
      "TA0000017444190 - Summarization.rep\n"
     ]
    },
    {
     "name": "stderr",
     "output_type": "stream",
     "text": [
      "/home/jupyter/Ticket_summarization_resolution/DE_ticket_summarization_resolution/notebooks/../src/sum_fns.py:1298: SettingWithCopyWarning: \n",
      "A value is trying to be set on a copy of a slice from a DataFrame.\n",
      "Try using .loc[row_indexer,col_indexer] = value instead\n",
      "\n",
      "See the caveats in the documentation: https://pandas.pydata.org/pandas-docs/stable/user_guide/indexing.html#returning-a-view-versus-a-copy\n",
      "  df[\"processed_bearblog\"] = df['processed_bearblog'].apply(extract_and_filter_text_within_symbols)\n",
      "/home/jupyter/Ticket_summarization_resolution/DE_ticket_summarization_resolution/notebooks/../src/sum_fns.py:1300: SettingWithCopyWarning: \n",
      "A value is trying to be set on a copy of a slice from a DataFrame.\n",
      "Try using .loc[row_indexer,col_indexer] = value instead\n",
      "\n",
      "See the caveats in the documentation: https://pandas.pydata.org/pandas-docs/stable/user_guide/indexing.html#returning-a-view-versus-a-copy\n",
      "  df[\"processed_bearblog\"] = df['day'] + \": \" + df['processed_bearblog']\n"
     ]
    },
    {
     "name": "stdout",
     "output_type": "stream",
     "text": [
      "CPU times: user 8.3 s, sys: 20.8 ms, total: 8.33 s\n",
      "Wall time: 14min 14s\n"
     ]
    }
   ],
   "source": [
    "%%time \n",
    "\n",
    "current_date = get_current_date_string()\n",
    "\n",
    "with open(f\"../data/evaluation/summarization/{current_date}.txt\", 'w', encoding='utf-8') as f:\n",
    "    results_all = batch_summarization(model = model)\n",
    "    f.writelines(results_all)"
   ]
  },
  {
   "cell_type": "markdown",
   "id": "8655795b-d759-46a9-b276-8e1e0a38d1fb",
   "metadata": {},
   "source": [
    "## Summarization without few shots for the TSLAM model "
   ]
  },
  {
   "cell_type": "code",
   "execution_count": null,
   "id": "ca8ce435-b465-457f-b34b-bdf13cad21c5",
   "metadata": {
    "tags": []
   },
   "outputs": [],
   "source": [
    "# from transformers import AutoTokenizer\n",
    "\n",
    "# def count_tokens(text, model_path = \"NetoAISolutions/TSLAM-4B\"):\n",
    "#     \"\"\"\n",
    "#     Count the number of tokens in a given text using the tokenizer from the specified model.\n",
    "\n",
    "#     Args:\n",
    "#         text (str): The input text to tokenize.\n",
    "#         model_path (str): The path or name of the model to load the tokenizer from.\n",
    "\n",
    "#     Returns:\n",
    "#         int: The number of tokens in the text.\n",
    "#     \"\"\"\n",
    "#     # Load the tokenizer\n",
    "#     tokenizer = AutoTokenizer.from_pretrained(model_path)\n",
    "    \n",
    "#     # Tokenize the text and count the tokens\n",
    "#     tokens = tokenizer.encode(text, return_tensors=\"pt\")\n",
    "#     return tokens.shape[1]"
   ]
  },
  {
   "cell_type": "code",
   "execution_count": null,
   "id": "653d39b9-b57e-4264-b1d8-b7d25902ea4f",
   "metadata": {
    "tags": []
   },
   "outputs": [],
   "source": [
    "# # Count tokens in a text\n",
    "#     worklog,\n",
    "#     desc,\n",
    "#     produkt,\n",
    "#     model,\n",
    "#     worklog_summarization_prompt,\n",
    "#     desc_summarization_prompt,\n",
    "text = desc_summarization_prompt.template\n",
    "# text = worklog_summarization_prompt.template \n",
    "# text = worklog\n",
    "token_count = count_tokens(text)\n",
    "print(f\"Number of tokens: {token_count}\")"
   ]
  },
  {
   "cell_type": "code",
   "execution_count": null,
   "id": "bb28ee0d-e4fc-4c11-8f2b-ba5364215bc9",
   "metadata": {},
   "outputs": [],
   "source": [
    "# prompt = \"\"\" Given the following Ticket worklog numbered by date of sent message, summarize the worklog in clear bullet points showing what happened in the ticket sequentially\n",
    "# Your answer must be in german language\n",
    "\n",
    "# worklog:\n",
    "# 06.09.2024 09:36:47: Neue Kundeninfo de Kundeninfo zur Kenntnis genommen\n",
    "# 06.09.2024 09:57:12: neuer Kundenkontakt initiiert durch Vodafone mit Kevin Meyer aufgrund einer Statusmeldung Abbrueche Telekom beauftragt Herr Bittner 0152 06018273 erreicht und informiert Abbrueche Telekom beauftragt Herr Bittner 0152 06018273 erreicht und informiert\n",
    "# 06.09.2024 09:58:41: Neuer Auftrag 'AT0000010855943'angelegt Problembeschreibung  #C4A# 0152 06018273 #Sync-Abbrüche [Öffnungszeiten & Ansprechpartner]  Herr Bittner 0152 06018273 Starke Abbrueche sind vorhanden und die Messung zeigt sich, dass es Alarme bei der Leitung gibt Die Leitung wurde neugestartet und es gibt keine Verbesserung Bitte die Leitung prüfen und ggf entstören Danke,\n",
    "# 06.09.2024 13:26:39: Auftrag AT0000010855943 geschlossen Lösungsbeschreibung  TCom Entstörmeldung von  Carrier Telekom IP-Bitstrom Eingang  06 09 2024 13 26 35 Störungsbeseitigung  06 09 2024 13 18 00 Lösung d Beh   Nein Abschlussmeldung  Kein Fehler festgestellt (Techniker hat beim Endkunden geprüft) Meldung  7005   Kein Fehler festgestellt (Techniker hat beim Endkunden geprüft) ; Bemerkung  [IHC]0A;\n",
    "# 06.09.2024 13:40:26: Neuer Auftrag 'AT0000010856212'angelegt Problembeschreibung  Kein Fixtermin -Eintrag [Was meldet der Kunde?]  Kunde bemängelt Abbrüche [Was sehen wir (Störungsbeschreibung)]  Abbrüche sind ersichtlich [Wie wurde bisher entstört? (Auftragshistorie)]  Basic checks wurden mit dem Kunden durchgefuehrt und es gibt keine Verbesserung Verkabelung, Stromversorgung und Reset des Equipments wurden durchgefuehrt Ein Telekom-Techniker war vor Ort und hat keinen Fehler festgestellt [Was soll wo vor Ort gemacht werden?]  Bitte die Verkabelung und die Geräte beim Kunden vor Ort prüfen und ggf tauschen Modemstyp  ZyXEL VMG1312 Falls der Fehler danach weiterhin besteht, dann soll eine Messung mit Argus auf der TAE Dose durchgeführt werden [Öffnungszeiten & Ansprechpartner]  Name & RN des ASP, Öffnungszeiten Herr Bittner 0152 06018273 [VF-Fachteam {Teamhotline}]  0211/5334466 Danken und Gruß\n",
    "# 09.09.2024 09:54:07: neuer Kundenkontakt initiiert durch Vodafone mit GFTD_FS aufgrund einer Statusmeldung Neuer Anhang vom TTWOS zum Auftrag AT0000010856212\n",
    "# 09.09.2024 10:02:24: Lösungskoordinator  ENTERPRISE24-IM-ZV Lösungsbeschreibung  Das Modem war defekt\n",
    "# 09.09.2024 10:10:37: Auftrag AT0000010856212 geschlossen Lösungsbeschreibung  Rückmeldeüberschrift  Behoben - HW - Tausch Rückmeldebeschreibung  09 09 2024 10 07 43 GFTD_Service_Desk GFTD_FS Das Modem ZyXEL VMG1312 war Defekt und wurde inkl Netzteil und TAE/DSL Kabel ausgetauscht Der Cisco Router soeepw8003 ist wieder über den Regelweg erreichbar Das Ticket kann nach Absprache geschlossen werden Techniker On Site  Yes DNOC-Call  Yes DNOC-Name  Ticketersteller Naview-Done  Yes Datum für die Lösung  09 09 2024 10 07 00\n",
    "# 09.09.2024 10:12:37: neuer Kundenkontakt initiiert durch Vodafone mit Kevin Meyer aufgrund einer Abschlussmeldung Modem war defekt Router laeuft wieder ueber den Regelweg Herr Meyer 0251/2021161 erreicht Er testet und meldet sich im Ticket zurueck Modem war defekt Router laeuft wieder ueber den Regelweg Herr Meyer 0251/2021161 erreicht Er testet und meldet sich im Ticket zurueck\n",
    "# 09.09.2024 13:11:35: neuer Kundenkontakt initiiert durch Vodafone mit Kevin Meyer aufgrund einer Abschlussmeldung Ihre Störung wurde behoben\n",
    "# 09.09.2024 13:16:09: Lösungskoordinator  Lösungsbeschreibung\n",
    "# 09.09.2024 14:37:33: neuer Kundenkontakt initiiert durch Vodafone mit Kevin Meyer aufgrund einer Abschlussmeldung Enterprise Abschlussmeldung final (RFO) Ihre Störung wurde behoben\n",
    "# 09.09.2024 14:38:08: Lösungskoordinator  FMEP TSSE2 Lösungsbeschreibung  Störungsgrund  GK-Produkte | Vodafone CPE | Defekt, Tausch -> priv HW Kunde | ZyXel-Modem - GKPFC#229 006 gesetzt am   09 09 2024 14 38 06\n",
    "\n",
    "\n",
    "# German summary:\n",
    "\n",
    "# \"\"\"\n",
    "\n",
    "# print(mis_model.invoke(prompt).content)\n",
    "\n",
    "\n",
    "# def starter(data):\n",
    "#     ticket,Problembeschr,desc,Technik,final_wroklog,produkt,dates,users= step1_processing(data)\n",
    "#     Technik = ['Daten IP']* len(desc)\n",
    "#     data_dict = {\n",
    "#         'Ticketnr': ticket,\n",
    "#         'Problembeschr': Problembeschr,\n",
    "#         'exakte_Problem': desc,\n",
    "#         'Dienst/Technik': Technik,\n",
    "#         'Datum': dates,\n",
    "#         'Benutzer': users,\n",
    "#         'BearbLog': final_wroklog,\n",
    "#         'Dienst/Produkt':produkt,\n",
    "#     }\n",
    "#     df = pd.DataFrame(data_dict)\n",
    "#     df_explode =df.explode(['Datum', 'Benutzer', 'BearbLog'])\n",
    "#     df_explode.BearbLog = df_explode.BearbLog.apply(lambda x: x.replace('\\r', '').replace('\\\\r', '').replace('\\\\n','\\n').replace('\\\\t\\\\t','\\n').replace(\"\\t\\t\\t\",\"\\n\"))\n",
    "#     df_explode.exakte_Problem = df_explode.exakte_Problem.apply(lambda x: x.replace('\\r', '').replace('\\\\r', '').replace('\\\\n','\\n').replace('\\\\t\\\\t','\\n').replace(\"\\t\\t\\t\",\"\\n\"))\n",
    "#     df_explode=df_explode.sort_values(by=['Ticketnr','Datum'])\n",
    "#     df_explode['processed_bearblog'] =df_explode.BearbLog.apply(lambda x:clean_text(extract_fields_with_keys(patterns, x)))\n",
    "#     df_explode['processed_bearblog'] = df_explode['processed_bearblog'].apply(filter_logs)\n",
    "#     df_explode['new_processed_bearblog'] = df_explode.processed_bearblog.apply(lambda x: clean_text2(x))\n",
    "#     df_explode['Dienst/Produkt'] =df_explode['Dienst/Produkt'].apply(lambda x: x.replace(':',''))\n",
    "#     df_explode['Benutzer'] =df_explode['Benutzer'].apply(lambda x: x.replace('\\n',''))\n",
    "#     return df_explode"
   ]
  },
  {
   "cell_type": "markdown",
   "id": "9790cd98",
   "metadata": {},
   "source": [
    "## Cleaning trial "
   ]
  },
  {
   "cell_type": "markdown",
   "id": "a1ddd006",
   "metadata": {},
   "source": [
    "### clean whitespace "
   ]
  },
  {
   "cell_type": "code",
   "execution_count": null,
   "id": "66a3d452",
   "metadata": {},
   "outputs": [],
   "source": [
    "from src.sum_fns import clean_whitespace\n",
    "import re \n",
    "\n",
    "text = \"\"\"\n",
    "'Router logs beweisen, dass der Router in Ordnung\\n================================================'\n",
    "\"\"\"\n",
    "\n",
    "filtered_lines = [line for line in re.split(r\"\\. ?\\n\", text) ]\n",
    "\n",
    "filtered_lines\n",
    "# clean_whitespace(text)\n"
   ]
  },
  {
   "cell_type": "markdown",
   "id": "ac280aba",
   "metadata": {},
   "source": [
    "### sentence split\n",
    "\n"
   ]
  },
  {
   "cell_type": "code",
   "execution_count": null,
   "id": "9b6d5112",
   "metadata": {},
   "outputs": [],
   "source": [
    "import re\n",
    "text = \"\"\"Eine neue eskalation wurde initiert, da , [Frage: Wurde Ihre Leitung ohne Ihre Zustimmung oder Absprache gekündigt?, Die Leitungskündigung erfolgte ohne Zustimmung des Kunden, G-FMEP-TSSE2\\nRückruf durch: Fachabteilung\\nRückruf um: bei neuem Status\\n######ED######\"\"\"\n",
    "\n",
    "re.sub(r\"#+.*?#+\", \"\", text)\n"
   ]
  },
  {
   "cell_type": "code",
   "execution_count": null,
   "id": "e1036598",
   "metadata": {},
   "outputs": [],
   "source": [
    "text = \"\"\"Router ueber Regelweg erreichbar\"\"\"\n",
    "\n",
    "doc = nlp(text)\n",
    "for i in doc.sents:\n",
    "    print(i)"
   ]
  },
  {
   "cell_type": "code",
   "execution_count": null,
   "id": "0d70a4d4",
   "metadata": {},
   "outputs": [],
   "source": [
    "from src.sum_fns import split_into_sentences\n",
    "\n",
    "# split_into_sentences(text)\n",
    "\n"
   ]
  },
  {
   "cell_type": "code",
   "execution_count": null,
   "id": "a4da3c09",
   "metadata": {},
   "outputs": [],
   "source": [
    "\n",
    "def split_into_sentences(paragraph):\n",
    "    \"\"\"\n",
    "    Split a paragraph into sentences using spaCy.\n",
    "    \n",
    "    Parameters:\n",
    "        paragraph (str): The paragraph to split.\n",
    "        \n",
    "    Returns:\n",
    "        list: List of sentences.\n",
    "    \"\"\"\n",
    "    doc = nlp(paragraph) if paragraph else nlp(\"\")\n",
    "    return [sent.text.strip() for sent in doc.sents]"
   ]
  },
  {
   "cell_type": "markdown",
   "id": "c7cc42ad",
   "metadata": {},
   "source": [
    "### has verb/adj"
   ]
  },
  {
   "cell_type": "code",
   "execution_count": null,
   "id": "4e7f12b7",
   "metadata": {},
   "outputs": [],
   "source": [
    "import spacy\n",
    "nlp = spacy.load(\"de_core_news_md\")"
   ]
  },
  {
   "cell_type": "code",
   "execution_count": null,
   "id": "6cf7e242",
   "metadata": {},
   "outputs": [],
   "source": [
    "text = \"Router logs beweisen, dass der Router in Ordnung\"\n",
    "doc = nlp(text)\n",
    "[token.pos_ for token in doc]\n",
    "\n",
    "# has_verb_or_adj = any(token.pos_ in {\"VERB\", \"ADJ\", \"AUX\"} for token in doc) # AUX is auxiliary verb\n"
   ]
  },
  {
   "cell_type": "markdown",
   "id": "3bdd2e01",
   "metadata": {},
   "source": [
    "### filter DOCSIS"
   ]
  },
  {
   "cell_type": "code",
   "execution_count": null,
   "id": "0cbe5711",
   "metadata": {},
   "outputs": [],
   "source": [
    "import re\n",
    "\n",
    "def filter_text_DOCSIS(text):\n",
    "    \"\"\"\n",
    "    Filters text, removing lines matching patterns and subsequent lines until a single newline.\n",
    "\n",
    "    Args:\n",
    "        input_text: The input text as a string.\n",
    "\n",
    "    Returns:\n",
    "        The filtered text as a string.\n",
    "    \"\"\"\n",
    "    lines = text.splitlines()\n",
    "    filtered_lines = []\n",
    "    skip_mode = False\n",
    "\n",
    "    for line in lines:\n",
    "        if skip_mode:\n",
    "            if not line.strip():\n",
    "                skip_mode = False\n",
    "            else:\n",
    "                continue\n",
    "        if \"DOCSIS-Status\" in line or re.match(r\"\\s{5,}-\", line):\n",
    "            skip_mode = True\n",
    "            continue\n",
    "        filtered_lines.append(line)\n",
    "\n",
    "    return \"\\n\".join(filtered_lines)\n",
    "\n",
    "text = \"\"\"\n",
    "      \n",
    "   06.01.2025 13:51:06 mohab.khafagy1\n",
    "   Modem weiterhin Offline\n",
    "   \n",
    "   DOCSIS-Status        -\n",
    "   Ping (min/max/avg)        -\n",
    "   Verbindungsstatus        offline 2 Tage, 01:01:36\n",
    "   Partial Service Mode Status        -\n",
    "   Status Pegelwerte        Unbekannt\n",
    "   \n",
    "   #############################\n",
    "\n",
    "\n",
    "   \"\"\"\n",
    "filter_text_DOCSIS(text)"
   ]
  },
  {
   "cell_type": "markdown",
   "id": "9fbe759a",
   "metadata": {},
   "source": [
    "### remove logs terminal"
   ]
  },
  {
   "cell_type": "code",
   "execution_count": null,
   "id": "a12cea88",
   "metadata": {},
   "outputs": [],
   "source": [
    "from src.sum_fns import remove_logs_terminal_tbls_from_paragraphs\n",
    "text = \"\"\"\n",
    "##########################\\n Modem offline;\\n Modem\\n Voller Name -\\n Provider -\\n CM MAC-Adresse a8:70:5d:1b:74:de \\n MTA MAC-Adresse -\\n IP-Adresse -\\n Firmware-Version -\\n Firmware-Datei -\\n Letztes Firmware-Update 29.11.2024, 10:16:01\\n Mit Strom versorgt seit -\\n Letzte Registrierung an der CMTS 1 Woche, 1 Tag, 15:04:41\\n DOCSIS-Status -\\n Ping (min/max/avg) -\\n Verbindungsstatus offline 02:21:29\\n Partial Service Mode Status -\\n Status Pegelwerte Unbekannt\\n \\n\n",
    "\"\"\"\n",
    "remove_logs_terminal_tbls_from_paragraphs(text)\n",
    "# I am still facing a problem here with human readable function"
   ]
  },
  {
   "cell_type": "markdown",
   "id": "48e27c0a",
   "metadata": {},
   "source": [
    "### is terminal?"
   ]
  },
  {
   "cell_type": "code",
   "execution_count": null,
   "id": "3a629c65",
   "metadata": {},
   "outputs": [],
   "source": [
    "text = \"    SHLEDEKAHS8004#ping vrf edekahs 010.038.174.001 so vl1 repeat 100\"\n",
    "from src.sum_fns import is_terminal_command\n",
    "is_terminal_command(text)"
   ]
  },
  {
   "cell_type": "markdown",
   "id": "cf35836e",
   "metadata": {},
   "source": [
    "### remove table lines"
   ]
  },
  {
   "cell_type": "code",
   "execution_count": null,
   "id": "ed466b53",
   "metadata": {},
   "outputs": [],
   "source": [
    "from src.sum_fns import remove_table_lines\n",
    "text = \"Der RTR ist lt. XMON Analyse seit dem  2025-01-02 15:21Uhr ausgefallen\"\n",
    "remove_table_lines(text)"
   ]
  },
  {
   "cell_type": "markdown",
   "id": "8d1d6fec",
   "metadata": {},
   "source": [
    "### failed trial"
   ]
  },
  {
   "cell_type": "code",
   "execution_count": null,
   "id": "5c7964a7",
   "metadata": {},
   "outputs": [],
   "source": [
    "nlp = spacy.load(\"de_core_news_sm\") #You can use a german model as well, but I will show an english example.\n",
    "nlp.add_pipe('sentencizer', config={\"punct_chars\": [\".\\n\", \"!\", \"?\", \"-\\n\"]}, before=\"parser\")\n",
    "\n",
    "import re \n",
    "\n",
    "def split_text(text):\n",
    "  \"\"\"Splits text based on the provided punctuation pattern.\"\"\"\n",
    "  punct_chars = [r\"\\.\\n\", r\"!\", r\"\\?\", r\"-\\n\"]\n",
    "  pattern = \"(\" + \"|\".join(punct_chars) + \")\"\n",
    "  return [item.strip() for item in re.split(pattern, text) if item.strip()]\n",
    "\n",
    "# \"   -\"\n",
    "text = \"\"\"\n",
    "DOCSIS-Status         -\n",
    "Ping (min/max/avg)        -\n",
    "Verbindungsstatus        offline 2 Tage, 01:01:36\n",
    "Partial Service Mode Status        -\n",
    "Status Pegelwerte        Unbekannt\n",
    "\"\"\"\n",
    "# text = \"\"\"\n",
    "# DOCSIS-Status -\\n Ping (min/max/avg) -\\n Verbindungsstatus offline 02:21:29\\n Partial Service Mode Status -\\n Status Pegelwerte Unbekannt\\n \\n\n",
    "# \"\"\"\n",
    "# split_text(text, pattern)\n",
    "# foo = [item for item in text.split(\"-\\n\") if item.strip() != \"\"]\n",
    "# print(foo)\n",
    "\n",
    "doc = nlp(text)\n",
    "\n",
    "for sent in doc.sents:\n",
    "    print(\"--------\")\n",
    "    print(sent.text.strip())\n",
    "\n",
    "    \n",
    "# text = \"\"\"\n",
    "# Modem weiterhin Offline\\n \\n DOCSIS-Status -\\n \n",
    "# Ping (min/max/avg) -\\n Verbindungsstatus offline 2 Tage, 01:01:36\\n Partial Service Mode Status -\\n Status Pegelwerte Unbekannt\\n \\n #############################\\n \\n Modem kann nicht resettet werden\\n \\n Beim Aufruf der Schnittstelle zum Resetten des Kabelmodems a8:70:5d:1b:74:de ist ein \\n Fehler aufgetreten.\\n \\n\n",
    "# \"\"\""
   ]
  },
  {
   "cell_type": "markdown",
   "id": "5e8d3641",
   "metadata": {},
   "source": [
    "## End of cleaning trial"
   ]
  }
 ],
 "metadata": {
  "environment": {
   "kernel": "conda-base-py",
   "name": "workbench-notebooks.m126",
   "type": "gcloud",
   "uri": "us-docker.pkg.dev/deeplearning-platform-release/gcr.io/workbench-notebooks:m126"
  },
  "kernelspec": {
   "display_name": "Python 3 (ipykernel) (Local)",
   "language": "python",
   "name": "conda-base-py"
  },
  "language_info": {
   "codemirror_mode": {
    "name": "ipython",
    "version": 3
   },
   "file_extension": ".py",
   "mimetype": "text/x-python",
   "name": "python",
   "nbconvert_exporter": "python",
   "pygments_lexer": "ipython3",
   "version": "3.10.15"
  }
 },
 "nbformat": 4,
 "nbformat_minor": 5
}
